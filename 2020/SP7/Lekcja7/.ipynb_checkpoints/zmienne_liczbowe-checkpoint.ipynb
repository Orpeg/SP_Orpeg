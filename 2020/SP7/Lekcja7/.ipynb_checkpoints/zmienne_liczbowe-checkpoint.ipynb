{
 "cells": [
  {
   "cell_type": "markdown",
   "metadata": {},
   "source": [
    "## Zmienne liczbowe"
   ]
  },
  {
   "cell_type": "code",
   "execution_count": 4,
   "metadata": {},
   "outputs": [
    {
     "name": "stdout",
     "output_type": "stream",
     "text": [
      "a =  5\n",
      "b =  9\n"
     ]
    }
   ],
   "source": [
    "# zmienne liczbowe\n",
    "a = 5\n",
    "b = 9\n",
    "print(\"a = \", a)\n",
    "print(\"b = \", b)"
   ]
  },
  {
   "cell_type": "code",
   "execution_count": 5,
   "metadata": {},
   "outputs": [
    {
     "name": "stdout",
     "output_type": "stream",
     "text": [
      "a =  9\n",
      "b =  5\n"
     ]
    }
   ],
   "source": [
    "# zamieniamy zmienne\n",
    "temp = a\n",
    "a = b\n",
    "b = temp\n",
    "print(\"a = \", a)\n",
    "print(\"b = \", b)"
   ]
  },
  {
   "cell_type": "markdown",
   "metadata": {},
   "source": [
    "**obliczamy pole prostokąta o bokach a i b"
   ]
  },
  {
   "cell_type": "code",
   "execution_count": 7,
   "metadata": {},
   "outputs": [
    {
     "name": "stdout",
     "output_type": "stream",
     "text": [
      "podaj długość boku a  4\n",
      "podaj długość boku b  9\n",
      "pole prostokąta o bokach a =  4 b = 9 wynosi P = 36\n"
     ]
    }
   ],
   "source": [
    "# zadanie na prostokąt\n",
    "a = int(input(\"podaj długość boku a  \"))\n",
    "b = int(input(\"podaj długość boku b  \"))\n",
    "# pole\n",
    "pole = a * b\n",
    "print(\"pole prostokąta o bokach a = \", a , \"b =\",b , \"wynosi P =\", pole)"
   ]
  },
  {
   "cell_type": "code",
   "execution_count": null,
   "metadata": {},
   "outputs": [],
   "source": []
  }
 ],
 "metadata": {
  "kernelspec": {
   "display_name": "Python 3",
   "language": "python",
   "name": "python3"
  },
  "language_info": {
   "codemirror_mode": {
    "name": "ipython",
    "version": 3
   },
   "file_extension": ".py",
   "mimetype": "text/x-python",
   "name": "python",
   "nbconvert_exporter": "python",
   "pygments_lexer": "ipython3",
   "version": "3.7.3"
  }
 },
 "nbformat": 4,
 "nbformat_minor": 2
}
