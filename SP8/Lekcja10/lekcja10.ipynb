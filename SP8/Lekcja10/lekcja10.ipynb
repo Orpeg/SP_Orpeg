{
 "cells": [
  {
   "cell_type": "code",
   "execution_count": 33,
   "id": "banned-stuff",
   "metadata": {},
   "outputs": [],
   "source": [
    "import pandas as pd\n",
    "import statistics as st"
   ]
  },
  {
   "cell_type": "code",
   "execution_count": 4,
   "id": "attempted-weekend",
   "metadata": {},
   "outputs": [],
   "source": [
    "df = pd.read_excel('C:\\\\Users\\\\Wojciech\\\\Desktop\\\\ORPEG\\\\ORPEG zajecia\\\\2020_21\\\\informatyka_raporty.xlsx', sheet_name='VIII ramowy')"
   ]
  },
  {
   "cell_type": "code",
   "execution_count": 5,
   "id": "proud-british",
   "metadata": {},
   "outputs": [
    {
     "data": {
      "text/html": [
       "<div>\n",
       "<style scoped>\n",
       "    .dataframe tbody tr th:only-of-type {\n",
       "        vertical-align: middle;\n",
       "    }\n",
       "\n",
       "    .dataframe tbody tr th {\n",
       "        vertical-align: top;\n",
       "    }\n",
       "\n",
       "    .dataframe thead th {\n",
       "        text-align: right;\n",
       "    }\n",
       "</style>\n",
       "<table border=\"1\" class=\"dataframe\">\n",
       "  <thead>\n",
       "    <tr style=\"text-align: right;\">\n",
       "      <th></th>\n",
       "      <th>Lp.</th>\n",
       "      <th>Nazwisko i imię</th>\n",
       "      <th>2020-10-05 00:00:00</th>\n",
       "      <th>2020-10-19 00:00:00</th>\n",
       "      <th>2020-11-30 00:00:00</th>\n",
       "      <th>2020-12-21 00:00:00</th>\n",
       "      <th>2021-01-18 00:00:00</th>\n",
       "      <th>2021-02-08 00:00:00</th>\n",
       "      <th>2021-03-29 00:00:00</th>\n",
       "      <th>2021-04-26 00:00:00</th>\n",
       "      <th>...</th>\n",
       "      <th>Unnamed: 11</th>\n",
       "      <th>Frekwencja</th>\n",
       "      <th>PK1</th>\n",
       "      <th>PK2</th>\n",
       "      <th>PK3</th>\n",
       "      <th>PK4</th>\n",
       "      <th>PK5</th>\n",
       "      <th>Ocena</th>\n",
       "      <th>Słownie</th>\n",
       "      <th>srednia</th>\n",
       "    </tr>\n",
       "  </thead>\n",
       "  <tbody>\n",
       "    <tr>\n",
       "      <th>0</th>\n",
       "      <td>1.0</td>\n",
       "      <td>Agnieszka Anneli Cieniawa</td>\n",
       "      <td>2020-10-05</td>\n",
       "      <td>2020-10-19</td>\n",
       "      <td>NaT</td>\n",
       "      <td>2020-12-21</td>\n",
       "      <td>2021-01-18</td>\n",
       "      <td>2021-02-08</td>\n",
       "      <td>2021-03-29</td>\n",
       "      <td>NaT</td>\n",
       "      <td>...</td>\n",
       "      <td>NaN</td>\n",
       "      <td>0.777778</td>\n",
       "      <td>0.80</td>\n",
       "      <td>0.64</td>\n",
       "      <td>0.56</td>\n",
       "      <td>0.92</td>\n",
       "      <td>NaN</td>\n",
       "      <td>NaN</td>\n",
       "      <td>NaN</td>\n",
       "      <td>0.730</td>\n",
       "    </tr>\n",
       "    <tr>\n",
       "      <th>1</th>\n",
       "      <td>2.0</td>\n",
       "      <td>Franciszek Michał Gruźlewski</td>\n",
       "      <td>2020-10-05</td>\n",
       "      <td>2020-10-19</td>\n",
       "      <td>2020-11-30</td>\n",
       "      <td>NaT</td>\n",
       "      <td>2021-01-18</td>\n",
       "      <td>2021-02-08</td>\n",
       "      <td>2021-03-29</td>\n",
       "      <td>2021-04-26</td>\n",
       "      <td>...</td>\n",
       "      <td>NaN</td>\n",
       "      <td>0.777778</td>\n",
       "      <td>0.84</td>\n",
       "      <td>0.84</td>\n",
       "      <td>0.64</td>\n",
       "      <td>0.96</td>\n",
       "      <td>NaN</td>\n",
       "      <td>NaN</td>\n",
       "      <td>NaN</td>\n",
       "      <td>0.730</td>\n",
       "    </tr>\n",
       "    <tr>\n",
       "      <th>2</th>\n",
       "      <td>3.0</td>\n",
       "      <td>Jan Łasek</td>\n",
       "      <td>2020-10-05</td>\n",
       "      <td>NaT</td>\n",
       "      <td>2020-11-30</td>\n",
       "      <td>2020-12-21</td>\n",
       "      <td>2021-01-18</td>\n",
       "      <td>2021-02-08</td>\n",
       "      <td>NaT</td>\n",
       "      <td>NaT</td>\n",
       "      <td>...</td>\n",
       "      <td>NaN</td>\n",
       "      <td>0.555556</td>\n",
       "      <td>0.72</td>\n",
       "      <td>0.52</td>\n",
       "      <td>0.85</td>\n",
       "      <td>1.00</td>\n",
       "      <td>0.80</td>\n",
       "      <td>NaN</td>\n",
       "      <td>NaN</td>\n",
       "      <td>0.820</td>\n",
       "    </tr>\n",
       "    <tr>\n",
       "      <th>3</th>\n",
       "      <td>4.0</td>\n",
       "      <td>Jarosław Tadeusz Korzeniowski</td>\n",
       "      <td>2020-10-05</td>\n",
       "      <td>2020-10-19</td>\n",
       "      <td>2020-11-30</td>\n",
       "      <td>2020-12-21</td>\n",
       "      <td>2021-01-18</td>\n",
       "      <td>2021-02-08</td>\n",
       "      <td>NaT</td>\n",
       "      <td>2021-04-26</td>\n",
       "      <td>...</td>\n",
       "      <td>NaN</td>\n",
       "      <td>0.777778</td>\n",
       "      <td>0.64</td>\n",
       "      <td>0.60</td>\n",
       "      <td>0.44</td>\n",
       "      <td>0.32</td>\n",
       "      <td>0.30</td>\n",
       "      <td>NaN</td>\n",
       "      <td>NaN</td>\n",
       "      <td>0.778</td>\n",
       "    </tr>\n",
       "    <tr>\n",
       "      <th>4</th>\n",
       "      <td>5.0</td>\n",
       "      <td>Juliusz Cegliński</td>\n",
       "      <td>2020-10-05</td>\n",
       "      <td>2020-10-19</td>\n",
       "      <td>NaT</td>\n",
       "      <td>NaT</td>\n",
       "      <td>NaT</td>\n",
       "      <td>NaT</td>\n",
       "      <td>2021-03-29</td>\n",
       "      <td>2021-04-26</td>\n",
       "      <td>...</td>\n",
       "      <td>NaN</td>\n",
       "      <td>0.555556</td>\n",
       "      <td>0.88</td>\n",
       "      <td>0.76</td>\n",
       "      <td>0.88</td>\n",
       "      <td>0.84</td>\n",
       "      <td>NaN</td>\n",
       "      <td>NaN</td>\n",
       "      <td>NaN</td>\n",
       "      <td>0.460</td>\n",
       "    </tr>\n",
       "    <tr>\n",
       "      <th>5</th>\n",
       "      <td>6.0</td>\n",
       "      <td>Kalina Jakubczak</td>\n",
       "      <td>2020-10-05</td>\n",
       "      <td>2020-10-19</td>\n",
       "      <td>NaT</td>\n",
       "      <td>2020-12-21</td>\n",
       "      <td>2021-01-18</td>\n",
       "      <td>2021-02-08</td>\n",
       "      <td>2021-03-29</td>\n",
       "      <td>2021-04-26</td>\n",
       "      <td>...</td>\n",
       "      <td>NaN</td>\n",
       "      <td>0.777778</td>\n",
       "      <td>0.84</td>\n",
       "      <td>0.68</td>\n",
       "      <td>0.68</td>\n",
       "      <td>1.00</td>\n",
       "      <td>0.85</td>\n",
       "      <td>NaN</td>\n",
       "      <td>NaN</td>\n",
       "      <td>0.840</td>\n",
       "    </tr>\n",
       "    <tr>\n",
       "      <th>6</th>\n",
       "      <td>7.0</td>\n",
       "      <td>Laura Krajewska</td>\n",
       "      <td>2020-10-05</td>\n",
       "      <td>NaT</td>\n",
       "      <td>NaT</td>\n",
       "      <td>NaT</td>\n",
       "      <td>NaT</td>\n",
       "      <td>2021-02-08</td>\n",
       "      <td>2021-03-29</td>\n",
       "      <td>2021-04-26</td>\n",
       "      <td>...</td>\n",
       "      <td>NaN</td>\n",
       "      <td>0.555556</td>\n",
       "      <td>0.44</td>\n",
       "      <td>0.60</td>\n",
       "      <td>NaN</td>\n",
       "      <td>0.16</td>\n",
       "      <td>0.30</td>\n",
       "      <td>NaN</td>\n",
       "      <td>NaN</td>\n",
       "      <td>0.810</td>\n",
       "    </tr>\n",
       "    <tr>\n",
       "      <th>7</th>\n",
       "      <td>8.0</td>\n",
       "      <td>Maciej Kandybowicz</td>\n",
       "      <td>2020-10-05</td>\n",
       "      <td>NaT</td>\n",
       "      <td>2020-11-30</td>\n",
       "      <td>2020-12-21</td>\n",
       "      <td>NaT</td>\n",
       "      <td>2021-02-08</td>\n",
       "      <td>2021-03-29</td>\n",
       "      <td>2021-04-26</td>\n",
       "      <td>...</td>\n",
       "      <td>NaN</td>\n",
       "      <td>0.777778</td>\n",
       "      <td>0.76</td>\n",
       "      <td>0.60</td>\n",
       "      <td>0.84</td>\n",
       "      <td>0.88</td>\n",
       "      <td>NaN</td>\n",
       "      <td>NaN</td>\n",
       "      <td>NaN</td>\n",
       "      <td>0.375</td>\n",
       "    </tr>\n",
       "    <tr>\n",
       "      <th>8</th>\n",
       "      <td>9.0</td>\n",
       "      <td>Marta Flaczyńska</td>\n",
       "      <td>2020-10-05</td>\n",
       "      <td>2020-10-19</td>\n",
       "      <td>2020-11-30</td>\n",
       "      <td>2020-12-21</td>\n",
       "      <td>2021-01-18</td>\n",
       "      <td>2021-02-08</td>\n",
       "      <td>2021-03-29</td>\n",
       "      <td>2021-04-26</td>\n",
       "      <td>...</td>\n",
       "      <td>NaN</td>\n",
       "      <td>1.000000</td>\n",
       "      <td>0.72</td>\n",
       "      <td>0.68</td>\n",
       "      <td>0.44</td>\n",
       "      <td>0.36</td>\n",
       "      <td>0.65</td>\n",
       "      <td>NaN</td>\n",
       "      <td>NaN</td>\n",
       "      <td>0.770</td>\n",
       "    </tr>\n",
       "    <tr>\n",
       "      <th>9</th>\n",
       "      <td>10.0</td>\n",
       "      <td>Sara Amelia Piechura</td>\n",
       "      <td>2020-10-05</td>\n",
       "      <td>NaT</td>\n",
       "      <td>2020-11-30</td>\n",
       "      <td>NaT</td>\n",
       "      <td>NaT</td>\n",
       "      <td>NaT</td>\n",
       "      <td>NaT</td>\n",
       "      <td>NaT</td>\n",
       "      <td>...</td>\n",
       "      <td>NaN</td>\n",
       "      <td>0.222222</td>\n",
       "      <td>NaN</td>\n",
       "      <td>NaN</td>\n",
       "      <td>NaN</td>\n",
       "      <td>NaN</td>\n",
       "      <td>NaN</td>\n",
       "      <td>NaN</td>\n",
       "      <td>NaN</td>\n",
       "      <td>0.570</td>\n",
       "    </tr>\n",
       "  </tbody>\n",
       "</table>\n",
       "<p>10 rows × 21 columns</p>\n",
       "</div>"
      ],
      "text/plain": [
       "    Lp.                Nazwisko i imię 2020-10-05 00:00:00  \\\n",
       "0   1.0      Agnieszka Anneli Cieniawa          2020-10-05   \n",
       "1   2.0   Franciszek Michał Gruźlewski          2020-10-05   \n",
       "2   3.0                      Jan Łasek          2020-10-05   \n",
       "3   4.0  Jarosław Tadeusz Korzeniowski          2020-10-05   \n",
       "4   5.0              Juliusz Cegliński          2020-10-05   \n",
       "5   6.0               Kalina Jakubczak          2020-10-05   \n",
       "6   7.0                Laura Krajewska          2020-10-05   \n",
       "7   8.0             Maciej Kandybowicz          2020-10-05   \n",
       "8   9.0               Marta Flaczyńska          2020-10-05   \n",
       "9  10.0           Sara Amelia Piechura          2020-10-05   \n",
       "\n",
       "  2020-10-19 00:00:00 2020-11-30 00:00:00 2020-12-21 00:00:00  \\\n",
       "0          2020-10-19                 NaT          2020-12-21   \n",
       "1          2020-10-19          2020-11-30                 NaT   \n",
       "2                 NaT          2020-11-30          2020-12-21   \n",
       "3          2020-10-19          2020-11-30          2020-12-21   \n",
       "4          2020-10-19                 NaT                 NaT   \n",
       "5          2020-10-19                 NaT          2020-12-21   \n",
       "6                 NaT                 NaT                 NaT   \n",
       "7                 NaT          2020-11-30          2020-12-21   \n",
       "8          2020-10-19          2020-11-30          2020-12-21   \n",
       "9                 NaT          2020-11-30                 NaT   \n",
       "\n",
       "  2021-01-18 00:00:00 2021-02-08 00:00:00 2021-03-29 00:00:00  \\\n",
       "0          2021-01-18          2021-02-08          2021-03-29   \n",
       "1          2021-01-18          2021-02-08          2021-03-29   \n",
       "2          2021-01-18          2021-02-08                 NaT   \n",
       "3          2021-01-18          2021-02-08                 NaT   \n",
       "4                 NaT                 NaT          2021-03-29   \n",
       "5          2021-01-18          2021-02-08          2021-03-29   \n",
       "6                 NaT          2021-02-08          2021-03-29   \n",
       "7                 NaT          2021-02-08          2021-03-29   \n",
       "8          2021-01-18          2021-02-08          2021-03-29   \n",
       "9                 NaT                 NaT                 NaT   \n",
       "\n",
       "  2021-04-26 00:00:00  ... Unnamed: 11  Frekwencja   PK1   PK2   PK3   PK4  \\\n",
       "0                 NaT  ...         NaN    0.777778  0.80  0.64  0.56  0.92   \n",
       "1          2021-04-26  ...         NaN    0.777778  0.84  0.84  0.64  0.96   \n",
       "2                 NaT  ...         NaN    0.555556  0.72  0.52  0.85  1.00   \n",
       "3          2021-04-26  ...         NaN    0.777778  0.64  0.60  0.44  0.32   \n",
       "4          2021-04-26  ...         NaN    0.555556  0.88  0.76  0.88  0.84   \n",
       "5          2021-04-26  ...         NaN    0.777778  0.84  0.68  0.68  1.00   \n",
       "6          2021-04-26  ...         NaN    0.555556  0.44  0.60   NaN  0.16   \n",
       "7          2021-04-26  ...         NaN    0.777778  0.76  0.60  0.84  0.88   \n",
       "8          2021-04-26  ...         NaN    1.000000  0.72  0.68  0.44  0.36   \n",
       "9                 NaT  ...         NaN    0.222222   NaN   NaN   NaN   NaN   \n",
       "\n",
       "    PK5  Ocena  Słownie  srednia  \n",
       "0   NaN    NaN      NaN    0.730  \n",
       "1   NaN    NaN      NaN    0.730  \n",
       "2  0.80    NaN      NaN    0.820  \n",
       "3  0.30    NaN      NaN    0.778  \n",
       "4   NaN    NaN      NaN    0.460  \n",
       "5  0.85    NaN      NaN    0.840  \n",
       "6  0.30    NaN      NaN    0.810  \n",
       "7   NaN    NaN      NaN    0.375  \n",
       "8  0.65    NaN      NaN    0.770  \n",
       "9   NaN    NaN      NaN    0.570  \n",
       "\n",
       "[10 rows x 21 columns]"
      ]
     },
     "execution_count": 5,
     "metadata": {},
     "output_type": "execute_result"
    }
   ],
   "source": [
    "df"
   ]
  },
  {
   "cell_type": "code",
   "execution_count": 6,
   "id": "turned-samoa",
   "metadata": {},
   "outputs": [],
   "source": [
    "def ocena(x):\n",
    "    if x < .4:\n",
    "        return 'niedostateczny'\n",
    "    if x < .56:\n",
    "        return 'dopuszczający'\n",
    "    if x <.71:\n",
    "        return 'dostateczny'\n",
    "    if x < .86:\n",
    "        return 'dobry'\n",
    "    if x < 1:\n",
    "        return 'bardzo dobry'\n",
    "    if x == 1:\n",
    "        return 'celujący'"
   ]
  },
  {
   "cell_type": "code",
   "execution_count": 7,
   "id": "cutting-identity",
   "metadata": {},
   "outputs": [
    {
     "data": {
      "text/plain": [
       "'dopuszczający'"
      ]
     },
     "execution_count": 7,
     "metadata": {},
     "output_type": "execute_result"
    }
   ],
   "source": [
    "ocena(.5)"
   ]
  },
  {
   "cell_type": "code",
   "execution_count": 9,
   "id": "listed-waterproof",
   "metadata": {},
   "outputs": [],
   "source": [
    "df = df[['Nazwisko i imię', 'Frekwencja', 'srednia']]"
   ]
  },
  {
   "cell_type": "code",
   "execution_count": 11,
   "id": "optimum-veteran",
   "metadata": {},
   "outputs": [
    {
     "name": "stderr",
     "output_type": "stream",
     "text": [
      "C:\\ProgramData\\Anaconda3\\lib\\site-packages\\ipykernel_launcher.py:1: SettingWithCopyWarning: \n",
      "A value is trying to be set on a copy of a slice from a DataFrame.\n",
      "Try using .loc[row_indexer,col_indexer] = value instead\n",
      "\n",
      "See the caveats in the documentation: https://pandas.pydata.org/pandas-docs/stable/user_guide/indexing.html#returning-a-view-versus-a-copy\n",
      "  \"\"\"Entry point for launching an IPython kernel.\n"
     ]
    },
    {
     "data": {
      "text/html": [
       "<div>\n",
       "<style scoped>\n",
       "    .dataframe tbody tr th:only-of-type {\n",
       "        vertical-align: middle;\n",
       "    }\n",
       "\n",
       "    .dataframe tbody tr th {\n",
       "        vertical-align: top;\n",
       "    }\n",
       "\n",
       "    .dataframe thead th {\n",
       "        text-align: right;\n",
       "    }\n",
       "</style>\n",
       "<table border=\"1\" class=\"dataframe\">\n",
       "  <thead>\n",
       "    <tr style=\"text-align: right;\">\n",
       "      <th></th>\n",
       "      <th>Nazwisko i imię</th>\n",
       "      <th>Frekwencja</th>\n",
       "      <th>srednia</th>\n",
       "      <th>ocena słownie</th>\n",
       "    </tr>\n",
       "  </thead>\n",
       "  <tbody>\n",
       "    <tr>\n",
       "      <th>0</th>\n",
       "      <td>Agnieszka Anneli Cieniawa</td>\n",
       "      <td>0.777778</td>\n",
       "      <td>0.730</td>\n",
       "      <td>dobry</td>\n",
       "    </tr>\n",
       "    <tr>\n",
       "      <th>1</th>\n",
       "      <td>Franciszek Michał Gruźlewski</td>\n",
       "      <td>0.777778</td>\n",
       "      <td>0.730</td>\n",
       "      <td>dobry</td>\n",
       "    </tr>\n",
       "    <tr>\n",
       "      <th>2</th>\n",
       "      <td>Jan Łasek</td>\n",
       "      <td>0.555556</td>\n",
       "      <td>0.820</td>\n",
       "      <td>dobry</td>\n",
       "    </tr>\n",
       "    <tr>\n",
       "      <th>3</th>\n",
       "      <td>Jarosław Tadeusz Korzeniowski</td>\n",
       "      <td>0.777778</td>\n",
       "      <td>0.778</td>\n",
       "      <td>dobry</td>\n",
       "    </tr>\n",
       "    <tr>\n",
       "      <th>4</th>\n",
       "      <td>Juliusz Cegliński</td>\n",
       "      <td>0.555556</td>\n",
       "      <td>0.460</td>\n",
       "      <td>dopuszczający</td>\n",
       "    </tr>\n",
       "    <tr>\n",
       "      <th>5</th>\n",
       "      <td>Kalina Jakubczak</td>\n",
       "      <td>0.777778</td>\n",
       "      <td>0.840</td>\n",
       "      <td>dobry</td>\n",
       "    </tr>\n",
       "    <tr>\n",
       "      <th>6</th>\n",
       "      <td>Laura Krajewska</td>\n",
       "      <td>0.555556</td>\n",
       "      <td>0.810</td>\n",
       "      <td>dobry</td>\n",
       "    </tr>\n",
       "    <tr>\n",
       "      <th>7</th>\n",
       "      <td>Maciej Kandybowicz</td>\n",
       "      <td>0.777778</td>\n",
       "      <td>0.375</td>\n",
       "      <td>niedostateczny</td>\n",
       "    </tr>\n",
       "    <tr>\n",
       "      <th>8</th>\n",
       "      <td>Marta Flaczyńska</td>\n",
       "      <td>1.000000</td>\n",
       "      <td>0.770</td>\n",
       "      <td>dobry</td>\n",
       "    </tr>\n",
       "    <tr>\n",
       "      <th>9</th>\n",
       "      <td>Sara Amelia Piechura</td>\n",
       "      <td>0.222222</td>\n",
       "      <td>0.570</td>\n",
       "      <td>dostateczny</td>\n",
       "    </tr>\n",
       "  </tbody>\n",
       "</table>\n",
       "</div>"
      ],
      "text/plain": [
       "                 Nazwisko i imię  Frekwencja  srednia   ocena słownie\n",
       "0      Agnieszka Anneli Cieniawa    0.777778    0.730           dobry\n",
       "1   Franciszek Michał Gruźlewski    0.777778    0.730           dobry\n",
       "2                      Jan Łasek    0.555556    0.820           dobry\n",
       "3  Jarosław Tadeusz Korzeniowski    0.777778    0.778           dobry\n",
       "4              Juliusz Cegliński    0.555556    0.460   dopuszczający\n",
       "5               Kalina Jakubczak    0.777778    0.840           dobry\n",
       "6                Laura Krajewska    0.555556    0.810           dobry\n",
       "7             Maciej Kandybowicz    0.777778    0.375  niedostateczny\n",
       "8               Marta Flaczyńska    1.000000    0.770           dobry\n",
       "9           Sara Amelia Piechura    0.222222    0.570     dostateczny"
      ]
     },
     "execution_count": 11,
     "metadata": {},
     "output_type": "execute_result"
    }
   ],
   "source": [
    "df['ocena słownie'] = df['srednia'].apply(ocena)\n",
    "df"
   ]
  },
  {
   "cell_type": "markdown",
   "id": "fitting-reaction",
   "metadata": {},
   "source": [
    "zakres range\n",
    "\n",
    "działania na listach\n",
    "\n",
    "analiza elementów listy\n",
    "\n",
    "analiza skryptów  "
   ]
  },
  {
   "cell_type": "code",
   "execution_count": 12,
   "id": "missing-hostel",
   "metadata": {},
   "outputs": [
    {
     "name": "stdout",
     "output_type": "stream",
     "text": [
      "0 1 2 3 4 5 6 7 8 9 "
     ]
    }
   ],
   "source": [
    "# 1. range z jedną liczbą\n",
    "for i in range(10):\n",
    "    print(i, end=' ')"
   ]
  },
  {
   "cell_type": "code",
   "execution_count": 18,
   "id": "wrong-jackson",
   "metadata": {},
   "outputs": [
    {
     "name": "stdout",
     "output_type": "stream",
     "text": [
      "20\n",
      "16\n",
      "12\n",
      "8\n",
      "4\n"
     ]
    }
   ],
   "source": [
    "# 2. range z 3 liczbami\n",
    "for i in range(20,0,-4):\n",
    "    print(i)"
   ]
  },
  {
   "cell_type": "code",
   "execution_count": 19,
   "id": "roman-india",
   "metadata": {},
   "outputs": [],
   "source": [
    "lst = list(range(-4, 20, 3))"
   ]
  },
  {
   "cell_type": "code",
   "execution_count": 20,
   "id": "waiting-image",
   "metadata": {},
   "outputs": [
    {
     "data": {
      "text/plain": [
       "[-4, -1, 2, 5, 8, 11, 14, 17]"
      ]
     },
     "execution_count": 20,
     "metadata": {},
     "output_type": "execute_result"
    }
   ],
   "source": [
    "lst"
   ]
  },
  {
   "cell_type": "code",
   "execution_count": 21,
   "id": "continuing-premium",
   "metadata": {},
   "outputs": [
    {
     "data": {
      "text/plain": [
       "[-4, -1, 2, 5, 8, 11, 14, 17, 20]"
      ]
     },
     "execution_count": 21,
     "metadata": {},
     "output_type": "execute_result"
    }
   ],
   "source": [
    "lst.append(20)\n",
    "lst"
   ]
  },
  {
   "cell_type": "code",
   "execution_count": 22,
   "id": "contemporary-background",
   "metadata": {},
   "outputs": [
    {
     "data": {
      "text/plain": [
       "[-4, -1, 2, 5, 8, 11, 14, 17]"
      ]
     },
     "execution_count": 22,
     "metadata": {},
     "output_type": "execute_result"
    }
   ],
   "source": [
    "lst.pop()\n",
    "lst"
   ]
  },
  {
   "cell_type": "code",
   "execution_count": 34,
   "id": "obvious-offset",
   "metadata": {},
   "outputs": [
    {
     "name": "stdout",
     "output_type": "stream",
     "text": [
      "6.5\n"
     ]
    }
   ],
   "source": [
    "print(st.mean(lst))"
   ]
  },
  {
   "cell_type": "code",
   "execution_count": 36,
   "id": "asian-lesson",
   "metadata": {},
   "outputs": [
    {
     "name": "stdout",
     "output_type": "stream",
     "text": [
      "suma elementów ujemnych wynosi -5\n"
     ]
    }
   ],
   "source": [
    "uj = 0\n",
    "for e in lst:\n",
    "    if e<0:\n",
    "        uj += e\n",
    "print('suma elementów ujemnych wynosi', uj)        \n",
    "    "
   ]
  },
  {
   "cell_type": "code",
   "execution_count": 37,
   "id": "static-british",
   "metadata": {},
   "outputs": [],
   "source": [
    "lt = [-3, -2, -1, 0, 1, 2, 3, 4, 5, 6, 7, 8, 9]"
   ]
  },
  {
   "cell_type": "code",
   "execution_count": 38,
   "id": "treated-seafood",
   "metadata": {},
   "outputs": [
    {
     "name": "stdout",
     "output_type": "stream",
     "text": [
      "-6\n"
     ]
    }
   ],
   "source": [
    "tot = 0\n",
    "for i in range(len(lt)):\n",
    "    if lt[i] < 0:\n",
    "        tot += lt[i]\n",
    "print(tot)"
   ]
  },
  {
   "cell_type": "code",
   "execution_count": 39,
   "id": "ambient-terminology",
   "metadata": {},
   "outputs": [
    {
     "name": "stdout",
     "output_type": "stream",
     "text": [
      "13\n"
     ]
    }
   ],
   "source": [
    "print(len(lt))"
   ]
  },
  {
   "cell_type": "code",
   "execution_count": null,
   "id": "interesting-weekend",
   "metadata": {},
   "outputs": [],
   "source": []
  }
 ],
 "metadata": {
  "kernelspec": {
   "display_name": "Python 3",
   "language": "python",
   "name": "python3"
  },
  "language_info": {
   "codemirror_mode": {
    "name": "ipython",
    "version": 3
   },
   "file_extension": ".py",
   "mimetype": "text/x-python",
   "name": "python",
   "nbconvert_exporter": "python",
   "pygments_lexer": "ipython3",
   "version": "3.7.9"
  }
 },
 "nbformat": 4,
 "nbformat_minor": 5
}
