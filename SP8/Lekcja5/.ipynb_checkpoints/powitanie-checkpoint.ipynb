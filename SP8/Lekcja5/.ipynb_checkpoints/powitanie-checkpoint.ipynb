{
 "cells": [
  {
   "cell_type": "code",
   "execution_count": 9,
   "metadata": {},
   "outputs": [],
   "source": [
    "a = 2\n",
    "b = 3"
   ]
  },
  {
   "cell_type": "markdown",
   "metadata": {},
   "source": [
    "# dodawanie liczb\n",
    "\n",
    "![ORPEG](http://www.orpeg.pl/templates/orpeg/images/logo.png)"
   ]
  },
  {
   "cell_type": "code",
   "execution_count": 5,
   "metadata": {},
   "outputs": [
    {
     "name": "stdout",
     "output_type": "stream",
     "text": [
      "zmienna a =  2\n",
      "zmienna b =  3\n"
     ]
    }
   ],
   "source": [
    "print(\"zmienna a = \", a)\n",
    "print(\"zmienna b = \", b)\n",
    "# to jest komentarz"
   ]
  },
  {
   "cell_type": "code",
   "execution_count": 8,
   "metadata": {},
   "outputs": [
    {
     "name": "stdout",
     "output_type": "stream",
     "text": [
      "suma a + b = 5\n"
     ]
    }
   ],
   "source": [
    "print(\"suma a + b =\", a+b)#dodajemy zmienne"
   ]
  },
  {
   "cell_type": "code",
   "execution_count": 11,
   "metadata": {},
   "outputs": [
    {
     "name": "stdout",
     "output_type": "stream",
     "text": [
      "podaj liczbe całkowitą   34\n",
      "podałeś liczbę x =  34\n"
     ]
    }
   ],
   "source": [
    "x = int(input(\"podaj liczbe całkowitą   \"))\n",
    "print(\"podałeś liczbę x = \", x)"
   ]
  },
  {
   "cell_type": "code",
   "execution_count": 15,
   "metadata": {},
   "outputs": [
    {
     "name": "stdout",
     "output_type": "stream",
     "text": [
      "podaj liczbę zmiennoprzecinkowa  31.41\n",
      "podałes liczbe y =  31.41\n"
     ]
    }
   ],
   "source": [
    "y = float(input(\"podaj liczbę zmiennoprzecinkowa  \"))\n",
    "print(\"podałes liczbe y = \", y)"
   ]
  },
  {
   "cell_type": "code",
   "execution_count": 16,
   "metadata": {},
   "outputs": [
    {
     "name": "stdout",
     "output_type": "stream",
     "text": [
      "x*y =  1067.94\n"
     ]
    }
   ],
   "source": [
    "wx = x*y\n",
    "print(\"x*y = \", wx)"
   ]
  },
  {
   "cell_type": "code",
   "execution_count": 17,
   "metadata": {},
   "outputs": [
    {
     "name": "stdout",
     "output_type": "stream",
     "text": [
      "9\n"
     ]
    }
   ],
   "source": [
    "print(3*3)"
   ]
  },
  {
   "cell_type": "code",
   "execution_count": 19,
   "metadata": {},
   "outputs": [
    {
     "name": "stdout",
     "output_type": "stream",
     "text": [
      "1024\n"
     ]
    }
   ],
   "source": [
    "print(2**10)"
   ]
  },
  {
   "cell_type": "code",
   "execution_count": 20,
   "metadata": {},
   "outputs": [
    {
     "name": "stdout",
     "output_type": "stream",
     "text": [
      "a=  2\n",
      "b = 3\n"
     ]
    }
   ],
   "source": [
    "print(\"a= \",a)\n",
    "print(\"b =\", b)"
   ]
  },
  {
   "cell_type": "code",
   "execution_count": 24,
   "metadata": {},
   "outputs": [],
   "source": [
    "def zamiana(a,b):\n",
    "    temp = a\n",
    "    a = b\n",
    "    b = temp\n",
    "    print(\"a= \", a)\n",
    "    print(\"b =\", b)"
   ]
  },
  {
   "cell_type": "code",
   "execution_count": 25,
   "metadata": {},
   "outputs": [
    {
     "name": "stdout",
     "output_type": "stream",
     "text": [
      "a=  2\n",
      "b = 3\n"
     ]
    }
   ],
   "source": [
    "zamiana(a,b)"
   ]
  },
  {
   "cell_type": "code",
   "execution_count": 26,
   "metadata": {},
   "outputs": [
    {
     "name": "stdout",
     "output_type": "stream",
     "text": [
      "a=  2\n",
      "b = 3\n"
     ]
    }
   ],
   "source": [
    "zamiana(a,b)"
   ]
  },
  {
   "cell_type": "code",
   "execution_count": null,
   "metadata": {},
   "outputs": [],
   "source": []
  }
 ],
 "metadata": {
  "kernelspec": {
   "display_name": "Python 3",
   "language": "python",
   "name": "python3"
  },
  "language_info": {
   "codemirror_mode": {
    "name": "ipython",
    "version": 3
   },
   "file_extension": ".py",
   "mimetype": "text/x-python",
   "name": "python",
   "nbconvert_exporter": "python",
   "pygments_lexer": "ipython3",
   "version": "3.7.1"
  }
 },
 "nbformat": 4,
 "nbformat_minor": 2
}
