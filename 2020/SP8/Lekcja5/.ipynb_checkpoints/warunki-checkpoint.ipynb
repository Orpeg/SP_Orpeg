{
 "cells": [
  {
   "cell_type": "markdown",
   "metadata": {},
   "source": [
    "## Pętla for oraz while ##"
   ]
  },
  {
   "cell_type": "code",
   "execution_count": 1,
   "metadata": {},
   "outputs": [],
   "source": [
    "# Pętla for\n",
    "#wykorzystuje instrukcję range"
   ]
  },
  {
   "cell_type": "code",
   "execution_count": 6,
   "metadata": {},
   "outputs": [
    {
     "name": "stdout",
     "output_type": "stream",
     "text": [
      "0 1 2 3 4 5 6 7 8 9 "
     ]
    }
   ],
   "source": [
    "for i in range(0,10):\n",
    "    print(i, end= ' ')"
   ]
  },
  {
   "cell_type": "markdown",
   "metadata": {},
   "source": [
    "**Instrukcja warunkowa if**"
   ]
  },
  {
   "cell_type": "markdown",
   "metadata": {},
   "source": [
    "**Zadanie 1**\n",
    "\n",
    "Obicz wszystkie liczy z zakresu od 1 do 100, które są podzielne przez 3 i 5"
   ]
  },
  {
   "cell_type": "code",
   "execution_count": 9,
   "metadata": {},
   "outputs": [
    {
     "name": "stdout",
     "output_type": "stream",
     "text": [
      "15 30 45 60 75 90 "
     ]
    }
   ],
   "source": [
    "for i in range(1,101):\n",
    "    if (i%3 == 0) and (i%5==0):\n",
    "        print(i, end= ' ')"
   ]
  },
  {
   "cell_type": "code",
   "execution_count": 10,
   "metadata": {},
   "outputs": [
    {
     "name": "stdin",
     "output_type": "stream",
     "text": [
      "Podaj a =  2\n"
     ]
    },
    {
     "name": "stdout",
     "output_type": "stream",
     "text": [
      "2 "
     ]
    },
    {
     "name": "stdin",
     "output_type": "stream",
     "text": [
      "Podaj b =  24\n"
     ]
    },
    {
     "name": "stdout",
     "output_type": "stream",
     "text": [
      "24\n"
     ]
    }
   ],
   "source": [
    "# wypisz liczy parzyste w przedziale od a do b\n",
    "a = int(input('Podaj a = '))\n",
    "print(a, end= ' ')\n",
    "b = int(input('Podaj b = '))\n",
    "print(b)"
   ]
  },
  {
   "cell_type": "code",
   "execution_count": 11,
   "metadata": {},
   "outputs": [
    {
     "name": "stdout",
     "output_type": "stream",
     "text": [
      "2 4 6 8 10 12 14 16 18 20 22 24 "
     ]
    }
   ],
   "source": [
    "for e in range(a, b+1):\n",
    "    if (e%2 == 0):\n",
    "        print(e, end =' ')"
   ]
  },
  {
   "cell_type": "markdown",
   "metadata": {},
   "source": [
    "**Pętla while**"
   ]
  },
  {
   "cell_type": "code",
   "execution_count": 12,
   "metadata": {},
   "outputs": [
    {
     "name": "stdout",
     "output_type": "stream",
     "text": [
      "1 2 3 4 5 6 7 8 9 "
     ]
    }
   ],
   "source": [
    "i = 1\n",
    "while i<10:\n",
    "    print(i, end=' ')\n",
    "    i+=1"
   ]
  },
  {
   "cell_type": "markdown",
   "metadata": {},
   "source": [
    "**Zadnie 2**\n",
    "\n",
    "Policz sumę liczb od 1 do 100"
   ]
  },
  {
   "cell_type": "code",
   "execution_count": 13,
   "metadata": {},
   "outputs": [
    {
     "name": "stdout",
     "output_type": "stream",
     "text": [
      "suma liczb do 1 do 100 wynosi  5050\n"
     ]
    }
   ],
   "source": [
    "i = 1\n",
    "suma = 0\n",
    "while i<= 100:\n",
    "    suma += i\n",
    "    i+=1\n",
    "print('suma liczb do 1 do 100 wynosi ', suma)"
   ]
  },
  {
   "cell_type": "markdown",
   "metadata": {},
   "source": [
    "**while jako pętla nieskończona**"
   ]
  },
  {
   "cell_type": "code",
   "execution_count": 15,
   "metadata": {},
   "outputs": [
    {
     "name": "stdout",
     "output_type": "stream",
     "text": [
      "Podaj liczbę parzystą z zakresu od 1 do 10\n"
     ]
    },
    {
     "name": "stdin",
     "output_type": "stream",
     "text": [
      "Liczba d =  3\n"
     ]
    },
    {
     "name": "stdout",
     "output_type": "stream",
     "text": [
      "Podałeś błędną liczbę \n"
     ]
    },
    {
     "name": "stdin",
     "output_type": "stream",
     "text": [
      "Spróbuj ponownie  d = 1\n"
     ]
    },
    {
     "name": "stdout",
     "output_type": "stream",
     "text": [
      "Podałeś błędną liczbę \n"
     ]
    },
    {
     "name": "stdin",
     "output_type": "stream",
     "text": [
      "Spróbuj ponownie  d = 12\n"
     ]
    },
    {
     "name": "stdout",
     "output_type": "stream",
     "text": [
      "Podałeś błędną liczbę \n"
     ]
    },
    {
     "name": "stdin",
     "output_type": "stream",
     "text": [
      "Spróbuj ponownie  d = 8\n"
     ]
    },
    {
     "name": "stdout",
     "output_type": "stream",
     "text": [
      "Podałeś poprawną liczbę d =  8\n"
     ]
    }
   ],
   "source": [
    "print('Podaj liczbę parzystą z zakresu od 1 do 10')\n",
    "d = int(input('Liczba d = '))\n",
    "while (d%2 != 0) or (d > 10):\n",
    "    print('Podałeś błędną liczbę ')\n",
    "    d = int(input('Spróbuj ponownie  d ='))\n",
    "print('Podałeś poprawną liczbę d = ', d)"
   ]
  },
  {
   "cell_type": "code",
   "execution_count": 16,
   "metadata": {},
   "outputs": [],
   "source": [
    "# obliczenie silni"
   ]
  },
  {
   "cell_type": "markdown",
   "metadata": {},
   "source": [
    "**Definicja**\n",
    "\n",
    "n! = 1 * 2 * 3 * 4 * 5....* n\n",
    "\n",
    "n! = (n-1)! * n"
   ]
  },
  {
   "cell_type": "code",
   "execution_count": 27,
   "metadata": {},
   "outputs": [
    {
     "name": "stdin",
     "output_type": "stream",
     "text": [
      "podaj liczbę n =  0\n"
     ]
    },
    {
     "name": "stdout",
     "output_type": "stream",
     "text": [
      "n =  0\n",
      "silnia  0 ! =  1\n",
      "silnia  0 ! =  120\n"
     ]
    }
   ],
   "source": [
    "# liczymy z definicji\n",
    "n = int(input('podaj liczbę n = '))\n",
    "print('n = ', n)\n",
    "if (n == 0):\n",
    "    print('silnia ', n , '! = ', 1)\n",
    "else:\n",
    "    silnia = 1\n",
    "    for i in range(1, n+1):\n",
    "        silnia = silnia*i\n",
    "print('silnia ', n , '! = ', silnia)"
   ]
  },
  {
   "cell_type": "code",
   "execution_count": null,
   "metadata": {},
   "outputs": [],
   "source": []
  }
 ],
 "metadata": {
  "kernelspec": {
   "display_name": "Python 3",
   "language": "python",
   "name": "python3"
  },
  "language_info": {
   "codemirror_mode": {
    "name": "ipython",
    "version": 3
   },
   "file_extension": ".py",
   "mimetype": "text/x-python",
   "name": "python",
   "nbconvert_exporter": "python",
   "pygments_lexer": "ipython3",
   "version": "3.7.3"
  }
 },
 "nbformat": 4,
 "nbformat_minor": 2
}
