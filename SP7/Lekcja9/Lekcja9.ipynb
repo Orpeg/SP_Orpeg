{
 "cells": [
  {
   "cell_type": "markdown",
   "id": "voluntary-warning",
   "metadata": {},
   "source": [
    "## Programowanie w Python3 ##\n",
    "\n",
    "* Zmienne w Pythonie.\n",
    "\n",
    "* Operacje warunkowe.\n",
    "\n",
    "* Pętle w Pythonie.\n",
    "\n",
    "* Listy w Pythonie."
   ]
  },
  {
   "cell_type": "code",
   "execution_count": 8,
   "id": "female-inquiry",
   "metadata": {},
   "outputs": [],
   "source": [
    "# zmienne\n",
    "napis = 'Poniedziełek '"
   ]
  },
  {
   "cell_type": "code",
   "execution_count": 9,
   "id": "respective-section",
   "metadata": {},
   "outputs": [
    {
     "name": "stdout",
     "output_type": "stream",
     "text": [
      "Poniedziełek \n"
     ]
    }
   ],
   "source": [
    "print(napis)"
   ]
  },
  {
   "cell_type": "code",
   "execution_count": 14,
   "id": "invisible-pharmacy",
   "metadata": {},
   "outputs": [
    {
     "name": "stdout",
     "output_type": "stream",
     "text": [
      "zmienna a = 3\n"
     ]
    }
   ],
   "source": [
    "a = 3\n",
    "print(\"zmienna a =\", a)"
   ]
  },
  {
   "cell_type": "code",
   "execution_count": 15,
   "id": "editorial-caution",
   "metadata": {},
   "outputs": [
    {
     "name": "stdout",
     "output_type": "stream",
     "text": [
      "zmienna a nie jest równa  3\n"
     ]
    }
   ],
   "source": [
    "# operacje warunkowe\n",
    "#instrukcja if... else\n",
    "\n",
    "if a==2:\n",
    "    print('zmienna a = ', a)\n",
    "else:\n",
    "    print('zmienna a nie jest równa ', a)"
   ]
  },
  {
   "cell_type": "code",
   "execution_count": 19,
   "id": "induced-baptist",
   "metadata": {},
   "outputs": [
    {
     "name": "stdout",
     "output_type": "stream",
     "text": [
      "cos innego\n"
     ]
    }
   ],
   "source": [
    "if a == 2:\n",
    "    print('a = ', a)\n",
    "else:\n",
    "    print('cos innego')"
   ]
  },
  {
   "cell_type": "code",
   "execution_count": 20,
   "id": "intermediate-sharing",
   "metadata": {},
   "outputs": [],
   "source": [
    "# pętle w Pythonie\n",
    "# 1. pętla for, range\n",
    "# range(poczatek, koniec, krok)"
   ]
  },
  {
   "cell_type": "markdown",
   "id": "afraid-hollow",
   "metadata": {},
   "source": [
    "**Pamiętajmy, że górna granica jest zawsze nieprzekraczalna, czyli mniejsza o 1 w zakresie *range***"
   ]
  },
  {
   "cell_type": "code",
   "execution_count": 35,
   "id": "accessory-reply",
   "metadata": {},
   "outputs": [
    {
     "name": "stdout",
     "output_type": "stream",
     "text": [
      "0 -1 -2 -3 -4 -5 -6 -7 -8 -9 -10 -11 -12 -13 -14 -15 -16 -17 -18 -19 "
     ]
    }
   ],
   "source": [
    "for i in range(0,-20, -1):\n",
    "    print(i, end = ' ')"
   ]
  },
  {
   "cell_type": "code",
   "execution_count": 30,
   "id": "dressed-melbourne",
   "metadata": {},
   "outputs": [],
   "source": [
    "# Zadanie. Oblicz pole trójkąta o bokach a = 3, b = 4"
   ]
  },
  {
   "cell_type": "code",
   "execution_count": 32,
   "id": "ruled-elite",
   "metadata": {},
   "outputs": [
    {
     "name": "stdout",
     "output_type": "stream",
     "text": [
      "Pole trójkąta prostokąnego o bokach 3, 4 wynosi   6.0\n"
     ]
    }
   ],
   "source": [
    "a = 3\n",
    "b = 4\n",
    "pole = .5*a*b\n",
    "\n",
    "print('Pole trójkąta prostokąnego o bokach 3, 4 wynosi  ', pole)"
   ]
  },
  {
   "cell_type": "code",
   "execution_count": 45,
   "id": "japanese-democracy",
   "metadata": {},
   "outputs": [
    {
     "name": "stdout",
     "output_type": "stream",
     "text": [
      "1 2 3 4 5 6 7 8 9 10 "
     ]
    }
   ],
   "source": [
    "# pętla while\n",
    "# while warunek logiczny\n",
    "j = 0\n",
    "while True:\n",
    "    j+=1\n",
    "    print(j, end=' ')\n",
    "    if j == 10: break\n",
    "        "
   ]
  },
  {
   "cell_type": "code",
   "execution_count": 47,
   "id": "psychological-laptop",
   "metadata": {},
   "outputs": [
    {
     "name": "stdout",
     "output_type": "stream",
     "text": [
      "Podaj a = 23\n",
      "Podaj a jeszcze raz  5\n",
      "Podaj a jeszcze raz  6\n",
      "Podaj a jeszcze raz  2\n",
      "dobrze! a =  2\n"
     ]
    }
   ],
   "source": [
    "# waruek nieskonczony\n",
    "a = int(input('Podaj a = 2'))\n",
    "while True:\n",
    "    if a == 2:\n",
    "        print('dobrze! a = ', a)\n",
    "        break\n",
    "    else:\n",
    "        a = int(input('Podaj a jeszcze raz  '))"
   ]
  },
  {
   "cell_type": "code",
   "execution_count": 48,
   "id": "bulgarian-conservation",
   "metadata": {},
   "outputs": [
    {
     "name": "stdout",
     "output_type": "stream",
     "text": [
      "['bocian', 'jeż', 'żaba', 2]\n"
     ]
    }
   ],
   "source": [
    "# lista\n",
    "lista = ['bocian', 'jeż', 'żaba', 2]\n",
    "print(lista)"
   ]
  },
  {
   "cell_type": "code",
   "execution_count": 53,
   "id": "secure-pencil",
   "metadata": {},
   "outputs": [
    {
     "name": "stdout",
     "output_type": "stream",
     "text": [
      "bocian\n",
      "jeż\n",
      "żaba\n",
      "chrząszcz\n"
     ]
    }
   ],
   "source": [
    "for e in lista:\n",
    "    print(e)"
   ]
  },
  {
   "cell_type": "code",
   "execution_count": 50,
   "id": "federal-former",
   "metadata": {},
   "outputs": [
    {
     "data": {
      "text/plain": [
       "2"
      ]
     },
     "execution_count": 50,
     "metadata": {},
     "output_type": "execute_result"
    }
   ],
   "source": [
    "lista.pop()"
   ]
  },
  {
   "cell_type": "code",
   "execution_count": 52,
   "id": "shaped-gibson",
   "metadata": {},
   "outputs": [],
   "source": [
    "lista.append('chrząszcz')"
   ]
  },
  {
   "cell_type": "code",
   "execution_count": 54,
   "id": "diverse-gibraltar",
   "metadata": {},
   "outputs": [
    {
     "name": "stdout",
     "output_type": "stream",
     "text": [
      "[1, 3, 5, 7, 9]\n"
     ]
    }
   ],
   "source": [
    "lst= list(range(1,10,2))\n",
    "print(lst)"
   ]
  },
  {
   "cell_type": "code",
   "execution_count": null,
   "id": "wooden-store",
   "metadata": {},
   "outputs": [],
   "source": []
  }
 ],
 "metadata": {
  "kernelspec": {
   "display_name": "Python 3",
   "language": "python",
   "name": "python3"
  },
  "language_info": {
   "codemirror_mode": {
    "name": "ipython",
    "version": 3
   },
   "file_extension": ".py",
   "mimetype": "text/x-python",
   "name": "python",
   "nbconvert_exporter": "python",
   "pygments_lexer": "ipython3",
   "version": "3.7.9"
  }
 },
 "nbformat": 4,
 "nbformat_minor": 5
}
