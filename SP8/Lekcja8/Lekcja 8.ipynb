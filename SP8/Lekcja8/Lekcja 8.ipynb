{
 "cells": [
  {
   "cell_type": "markdown",
   "metadata": {},
   "source": [
    "## Lekcja 8. Python 3 ##"
   ]
  },
  {
   "cell_type": "markdown",
   "metadata": {},
   "source": [
    "* listy\n",
    "\n",
    "* funkcje \n",
    "\n",
    "* rekurencja"
   ]
  },
  {
   "cell_type": "code",
   "execution_count": 2,
   "metadata": {},
   "outputs": [
    {
     "data": {
      "text/plain": [
       "6"
      ]
     },
     "execution_count": 2,
     "metadata": {},
     "output_type": "execute_result"
    }
   ],
   "source": [
    "#prosty kalkulator\n",
    "2*3"
   ]
  },
  {
   "cell_type": "code",
   "execution_count": 3,
   "metadata": {},
   "outputs": [
    {
     "name": "stdout",
     "output_type": "stream",
     "text": [
      "[-10, 2, -2, 9, 5, 4, 2, 11, 25]\n"
     ]
    }
   ],
   "source": [
    "# lista i jej drukowanie\n",
    "lst = [-10, 2, -2, 9, 5, 4, 2, 11, 25]\n",
    "print(lst)"
   ]
  },
  {
   "cell_type": "code",
   "execution_count": 4,
   "metadata": {},
   "outputs": [
    {
     "name": "stdout",
     "output_type": "stream",
     "text": [
      "-10, 2, -2, 9, 5, 4, 2, 11, 25, "
     ]
    }
   ],
   "source": [
    "# wypisujemy listę w jednym wierszu\n",
    "for e in lst:\n",
    "    print(e, end = ', ')"
   ]
  },
  {
   "cell_type": "code",
   "execution_count": 5,
   "metadata": {},
   "outputs": [],
   "source": [
    "# obliczenia statystyczne\n",
    "maks = max(lst)\n",
    "mini = min(lst)"
   ]
  },
  {
   "cell_type": "code",
   "execution_count": 6,
   "metadata": {},
   "outputs": [],
   "source": [
    "# importujemy biblitekę statistics i obliczamy średnią\n",
    "from statistics import mean\n",
    "srednia = mean([-10, 2, -2, 9, 5, 4, 2, 11, 25])"
   ]
  },
  {
   "cell_type": "code",
   "execution_count": 7,
   "metadata": {},
   "outputs": [
    {
     "name": "stdout",
     "output_type": "stream",
     "text": [
      "25\n",
      "-10\n",
      "5.111111111111111\n"
     ]
    }
   ],
   "source": [
    "print(maks)\n",
    "print(mini)\n",
    "print(srednia)"
   ]
  },
  {
   "cell_type": "code",
   "execution_count": 8,
   "metadata": {},
   "outputs": [
    {
     "data": {
      "text/plain": [
       "25"
      ]
     },
     "execution_count": 8,
     "metadata": {},
     "output_type": "execute_result"
    }
   ],
   "source": [
    "# usuwanie ostatniego elementu z listy\n",
    "lst.pop()"
   ]
  },
  {
   "cell_type": "code",
   "execution_count": 9,
   "metadata": {},
   "outputs": [
    {
     "name": "stdout",
     "output_type": "stream",
     "text": [
      "[-10, 2, -2, 9, 5, 4, 2, 11]\n"
     ]
    }
   ],
   "source": [
    "print(lst)"
   ]
  },
  {
   "cell_type": "code",
   "execution_count": 10,
   "metadata": {},
   "outputs": [
    {
     "name": "stdout",
     "output_type": "stream",
     "text": [
      "[-10, 2, -2, 9, 5, 4, 2, 11, 25]\n"
     ]
    }
   ],
   "source": [
    "# dodanie elementu na koniec listy\n",
    "lst.append(25)\n",
    "print(lst)"
   ]
  },
  {
   "cell_type": "code",
   "execution_count": 11,
   "metadata": {},
   "outputs": [
    {
     "name": "stdout",
     "output_type": "stream",
     "text": [
      "0, 1, 2, 3, 4, "
     ]
    }
   ],
   "source": [
    "# 1. petla for\n",
    "for i in range(5):\n",
    "    print(i, end=', ')"
   ]
  },
  {
   "cell_type": "code",
   "execution_count": 23,
   "metadata": {},
   "outputs": [],
   "source": [
    "# tworzymy pustą listę\n",
    "lista =[]"
   ]
  },
  {
   "cell_type": "code",
   "execution_count": 24,
   "metadata": {},
   "outputs": [
    {
     "name": "stdout",
     "output_type": "stream",
     "text": [
      "[0, 1, 2, 3, 4, 5, 6, 7, 8, 9, 10, 11, 12, 13, 14, 15, 16, 17, 18, 19, 20, 21, 22, 23, 24, 25, 26, 27, 28, 29, 30, 31, 32, 33, 34, 35, 36, 37, 38, 39, 40, 41, 42, 43, 44, 45, 46, 47, 48, 49, 50, 51, 52, 53, 54, 55, 56, 57, 58, 59, 60, 61, 62, 63, 64, 65, 66, 67, 68, 69, 70, 71, 72, 73, 74, 75, 76, 77, 78, 79, 80, 81, 82, 83, 84, 85, 86, 87, 88, 89, 90, 91, 92, 93, 94, 95, 96, 97, 98, 99, 100]\n"
     ]
    }
   ],
   "source": [
    "# wypełniamy listę liczbami naturalnymi do 100\n",
    "for i in range (101):\n",
    "    lista.append(i)\n",
    "print(lista)"
   ]
  },
  {
   "cell_type": "code",
   "execution_count": 25,
   "metadata": {},
   "outputs": [
    {
     "name": "stdout",
     "output_type": "stream",
     "text": [
      "suma liczb do 0 do 100 wynosi  :    5050\n"
     ]
    }
   ],
   "source": [
    "# oblicz sumę 100 pierwszych liczb naturalnych\n",
    "suma = 0\n",
    "for e in lista:\n",
    "    suma += e\n",
    "print('suma liczb do 0 do 100 wynosi  :   ' , suma)"
   ]
  },
  {
   "cell_type": "code",
   "execution_count": 26,
   "metadata": {},
   "outputs": [],
   "source": [
    "a = 3\n",
    "b = 4\n",
    "b += a"
   ]
  },
  {
   "cell_type": "code",
   "execution_count": 27,
   "metadata": {},
   "outputs": [
    {
     "name": "stdout",
     "output_type": "stream",
     "text": [
      "a =  3 b =  7\n"
     ]
    }
   ],
   "source": [
    "print('a = ', a, 'b = ', b)"
   ]
  },
  {
   "cell_type": "code",
   "execution_count": 28,
   "metadata": {},
   "outputs": [
    {
     "name": "stdout",
     "output_type": "stream",
     "text": [
      "+++++++++++++++++\n"
     ]
    }
   ],
   "source": [
    "def drukuj():\n",
    "    print ('+++++++++++++++++')\n",
    "drukuj()"
   ]
  },
  {
   "cell_type": "code",
   "execution_count": 29,
   "metadata": {},
   "outputs": [
    {
     "name": "stdout",
     "output_type": "stream",
     "text": [
      "3\n",
      "+++++++++++++++++\n",
      "7\n"
     ]
    }
   ],
   "source": [
    "print (a)\n",
    "drukuj()\n",
    "print(b)"
   ]
  },
  {
   "cell_type": "code",
   "execution_count": 30,
   "metadata": {},
   "outputs": [
    {
     "data": {
      "text/plain": [
       "10"
      ]
     },
     "execution_count": 30,
     "metadata": {},
     "output_type": "execute_result"
    }
   ],
   "source": [
    "def suma(a,b):\n",
    "    return(a+b)\n",
    "suma(a,b)"
   ]
  },
  {
   "cell_type": "code",
   "execution_count": 31,
   "metadata": {},
   "outputs": [
    {
     "name": "stdout",
     "output_type": "stream",
     "text": [
      "17\n"
     ]
    }
   ],
   "source": [
    "x=12\n",
    "y=5\n",
    "s = suma(x,y)\n",
    "print(s)"
   ]
  },
  {
   "cell_type": "code",
   "execution_count": 32,
   "metadata": {},
   "outputs": [
    {
     "name": "stdout",
     "output_type": "stream",
     "text": [
      "podaj liczba całkowitą < 10:   8\n",
      "silnia(n) dla n=  8    wynosi  40320\n"
     ]
    }
   ],
   "source": [
    "# liczenie silni metodą iteracyjną\n",
    "# silnia (n) = 1*2*3*.... *n\n",
    "# silnia(0)=1\n",
    "# silnia(1) = 1\n",
    "n = int(input ('podaj liczba całkowitą < 10:   '))\n",
    "silnia = 1\n",
    "for i in range (1,n+1):\n",
    "    silnia*=i\n",
    "print('silnia(n) dla n= ', n , '   wynosi ', silnia)"
   ]
  },
  {
   "cell_type": "code",
   "execution_count": 33,
   "metadata": {},
   "outputs": [
    {
     "name": "stdout",
     "output_type": "stream",
     "text": [
      "podaj liczbę całkowitą k < 10:    8\n",
      "k =  8\n",
      "silnia =  40320\n"
     ]
    }
   ],
   "source": [
    "# liczenie silni metodą rekurencyjną\n",
    "k = int(input('podaj liczbę całkowitą k < 10:    '))\n",
    "print('k = ', k)\n",
    "def silnia(n):\n",
    "    if n == 0:\n",
    "        return 1\n",
    "    return n*silnia(n-1)\n",
    "sk = silnia(k)\n",
    "print('silnia = ',sk)"
   ]
  },
  {
   "cell_type": "code",
   "execution_count": null,
   "metadata": {},
   "outputs": [],
   "source": []
  }
 ],
 "metadata": {
  "kernelspec": {
   "display_name": "Python 3",
   "language": "python",
   "name": "python3"
  },
  "language_info": {
   "codemirror_mode": {
    "name": "ipython",
    "version": 3
   },
   "file_extension": ".py",
   "mimetype": "text/x-python",
   "name": "python",
   "nbconvert_exporter": "python",
   "pygments_lexer": "ipython3",
   "version": "3.7.3"
  }
 },
 "nbformat": 4,
 "nbformat_minor": 2
}
