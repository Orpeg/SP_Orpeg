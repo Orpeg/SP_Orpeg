{
 "cells": [
  {
   "cell_type": "code",
   "execution_count": 2,
   "metadata": {},
   "outputs": [
    {
     "name": "stdout",
     "output_type": "stream",
     "text": [
      "Dzień dobry\n"
     ]
    }
   ],
   "source": [
    "print(\"Dzień dobry\")"
   ]
  },
  {
   "cell_type": "code",
   "execution_count": 4,
   "metadata": {},
   "outputs": [
    {
     "name": "stdout",
     "output_type": "stream",
     "text": [
      "a =  3 b =  4\n",
      "suma liczba a+b =  7\n"
     ]
    }
   ],
   "source": [
    "a = 3\n",
    "b = 4\n",
    "print(\"a = \", a, \"b = \" , b)\n",
    "print(\"suma liczba a+b = \" , a+b)"
   ]
  },
  {
   "cell_type": "code",
   "execution_count": 1,
   "metadata": {},
   "outputs": [
    {
     "name": "stdout",
     "output_type": "stream",
     "text": [
      "podaj bok x = 7\n",
      "podaj bok y = 14\n",
      "pole prostokąta o bokach x =  7 , y =  14  wynosi   98\n"
     ]
    }
   ],
   "source": [
    "# zadanie: oblicz pole prostokąta o bokach x , y \n",
    "x = int(input(\"podaj bok x = \"))\n",
    "y = int(input(\"podaj bok y = \"))\n",
    "print(\"pole prostokąta o bokach x = \",x, \", y = \", y, \" wynosi  \", x*y)"
   ]
  },
  {
   "cell_type": "code",
   "execution_count": 2,
   "metadata": {},
   "outputs": [
    {
     "name": "stdout",
     "output_type": "stream",
     "text": [
      "dzień dobry\n",
      "dzień dobry\n"
     ]
    }
   ],
   "source": [
    "# napisy zawsze w cudzysłowie lub apostrofach\n",
    "print(\"dzień dobry\")\n",
    "print('dzień dobry')"
   ]
  },
  {
   "cell_type": "code",
   "execution_count": 21,
   "metadata": {},
   "outputs": [
    {
     "name": "stdout",
     "output_type": "stream",
     "text": [
      "podaj liczbe całkowitą dodatnią   v= 9\n",
      "liczba v =  9 ,  jest nieparzysta\n"
     ]
    }
   ],
   "source": [
    "# badamy czy liczba jest parzysta\n",
    "v = int(input(\"podaj liczbe całkowitą dodatnią   v= \"))\n",
    "# badamy czy jest parzysta\n",
    "if (v%2 == 0):\n",
    "    print(\"liczba v = \", v, \",  jest parzysta\")\n",
    "else:\n",
    "    print(\"liczba v = \", v , \",  jest nieparzysta\")"
   ]
  },
  {
   "cell_type": "code",
   "execution_count": null,
   "metadata": {},
   "outputs": [],
   "source": []
  }
 ],
 "metadata": {
  "kernelspec": {
   "display_name": "Python 3",
   "language": "python",
   "name": "python3"
  },
  "language_info": {
   "codemirror_mode": {
    "name": "ipython",
    "version": 3
   },
   "file_extension": ".py",
   "mimetype": "text/x-python",
   "name": "python",
   "nbconvert_exporter": "python",
   "pygments_lexer": "ipython3",
   "version": "3.7.3"
  }
 },
 "nbformat": 4,
 "nbformat_minor": 2
}
