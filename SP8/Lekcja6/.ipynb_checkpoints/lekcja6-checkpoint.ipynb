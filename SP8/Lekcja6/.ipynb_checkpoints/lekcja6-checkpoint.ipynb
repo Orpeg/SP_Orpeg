{
 "cells": [
  {
   "cell_type": "markdown",
   "metadata": {},
   "source": [
    "## Programowanie w Python 3 ##"
   ]
  },
  {
   "cell_type": "markdown",
   "metadata": {},
   "source": [
    "**Przerwanie break**"
   ]
  },
  {
   "cell_type": "code",
   "execution_count": 1,
   "metadata": {},
   "outputs": [
    {
     "name": "stdout",
     "output_type": "stream",
     "text": [
      "Witajcie na lekcji 6\n"
     ]
    }
   ],
   "source": [
    "print('Witajcie na lekcji 6')"
   ]
  },
  {
   "cell_type": "markdown",
   "metadata": {},
   "source": [
    "**pętla for**\n"
   ]
  },
  {
   "cell_type": "code",
   "execution_count": 2,
   "metadata": {},
   "outputs": [
    {
     "name": "stdout",
     "output_type": "stream",
     "text": [
      "0, 1, 2, 3, 4, "
     ]
    }
   ],
   "source": [
    "for i in range(10):\n",
    "    print(i, end= ', ')\n",
    "    if i == 4:\n",
    "        break\n",
    "#     print(i, end=', ')"
   ]
  },
  {
   "cell_type": "code",
   "execution_count": 3,
   "metadata": {},
   "outputs": [
    {
     "name": "stdout",
     "output_type": "stream",
     "text": [
      "1, 2, 3, 4, "
     ]
    }
   ],
   "source": [
    "# pętla while\n",
    "i = 0\n",
    "while i < 10:\n",
    "    i += 1\n",
    "    print(i, end= ', ')\n",
    "    if i == 4:\n",
    "        break"
   ]
  },
  {
   "cell_type": "markdown",
   "metadata": {},
   "source": [
    "Zadanie. Znaleźć pierwszą liczbę całkowitą z zakresu <1,100>, która jest parzysta i podzielna przez 13"
   ]
  },
  {
   "cell_type": "code",
   "execution_count": 4,
   "metadata": {},
   "outputs": [
    {
     "name": "stdout",
     "output_type": "stream",
     "text": [
      "szukana liczba =  26\n"
     ]
    }
   ],
   "source": [
    "for i in range(1,101):\n",
    "    if i%2 == 0:\n",
    "        if i%13 == 0:\n",
    "            print('szukana liczba = ', i)\n",
    "            break"
   ]
  },
  {
   "cell_type": "code",
   "execution_count": 5,
   "metadata": {},
   "outputs": [
    {
     "name": "stdout",
     "output_type": "stream",
     "text": [
      "szukana liczba =  26\n"
     ]
    }
   ],
   "source": [
    "i = 1\n",
    "while i < 101:\n",
    "    if (i%2 == 0) and (i%13 == 0):\n",
    "        print('szukana liczba = ', i)\n",
    "        break\n",
    "    i+=1"
   ]
  },
  {
   "cell_type": "markdown",
   "metadata": {},
   "source": [
    "**Funkcje**"
   ]
  },
  {
   "cell_type": "code",
   "execution_count": 6,
   "metadata": {},
   "outputs": [],
   "source": [
    "# 1. funkcja bezargumentowa\n",
    "def powitanie():\n",
    "   print('dzień dobry')"
   ]
  },
  {
   "cell_type": "code",
   "execution_count": 7,
   "metadata": {},
   "outputs": [
    {
     "name": "stdout",
     "output_type": "stream",
     "text": [
      "dzień dobry\n",
      "None\n"
     ]
    }
   ],
   "source": [
    "print(powitanie())"
   ]
  },
  {
   "cell_type": "code",
   "execution_count": 8,
   "metadata": {},
   "outputs": [],
   "source": [
    "# funkcja z argumentem\n",
    "def dni(x):\n",
    "    return 365*x"
   ]
  },
  {
   "cell_type": "code",
   "execution_count": 11,
   "metadata": {},
   "outputs": [
    {
     "name": "stdin",
     "output_type": "stream",
     "text": [
      "podaj liczbę lat 4\n"
     ]
    },
    {
     "name": "stdout",
     "output_type": "stream",
     "text": [
      "liczba lat 4 ,  liczba dni   1460\n"
     ]
    }
   ],
   "source": [
    "y = int(input(\"podaj liczbę lat\"))\n",
    "print(\"liczba lat\", y , \",  liczba dni  \", dni(y))"
   ]
  },
  {
   "cell_type": "code",
   "execution_count": 12,
   "metadata": {},
   "outputs": [
    {
     "name": "stdout",
     "output_type": "stream",
     "text": [
      "0 .  4\n",
      "1 .  9\n",
      "2 .  18\n",
      "3 .  31\n",
      "4 .  48\n",
      "5 .  69\n",
      "6 .  94\n",
      "7 .  123\n",
      "8 .  156\n",
      "9 .  193\n",
      "10 .  234\n"
     ]
    }
   ],
   "source": [
    "# dana jest funkcja y = 2x**2 +3*x + 4. Oblicz wartości tej funkcji dla liczb całkowitych od 0 do 10\n",
    "def funkcja(n):\n",
    "    return 2*n**2+3*n+4\n",
    "for i in range(11):\n",
    "    print(i, \". \", funkcja(i))"
   ]
  },
  {
   "cell_type": "markdown",
   "metadata": {},
   "source": [
    "### Metoda iteracyjna i rekurencyjna ##"
   ]
  },
  {
   "cell_type": "code",
   "execution_count": 13,
   "metadata": {},
   "outputs": [
    {
     "name": "stdin",
     "output_type": "stream",
     "text": [
      "podaj liczbę całkowią dodatnią 5\n"
     ]
    },
    {
     "name": "stdout",
     "output_type": "stream",
     "text": [
      "silnia 5 ! = 120\n"
     ]
    }
   ],
   "source": [
    "# liczymy silnie metodą iteracyjną\n",
    "silnia = 1\n",
    "n = int(input('podaj liczbę całkowią dodatnią'))\n",
    "if n == 0:\n",
    "    silnia = 1\n",
    "else:\n",
    "    for i in range(1,n+1):\n",
    "        silnia= silnia * i\n",
    "print('silnia',n, '! =', silnia)"
   ]
  },
  {
   "cell_type": "code",
   "execution_count": 14,
   "metadata": {},
   "outputs": [],
   "source": [
    "# metoda rekurencyjna\n",
    "def silnia(n):\n",
    "    if n == 0:\n",
    "        return 1\n",
    "    if n == 1:\n",
    "        return 1\n",
    "    return silnia(n-1)*n"
   ]
  },
  {
   "cell_type": "code",
   "execution_count": 15,
   "metadata": {},
   "outputs": [
    {
     "name": "stdin",
     "output_type": "stream",
     "text": [
      "podaj liczbe całkowitą n 5\n"
     ]
    },
    {
     "name": "stdout",
     "output_type": "stream",
     "text": [
      "silnia  5 !=  120\n"
     ]
    }
   ],
   "source": [
    "n = int(input('podaj liczbe całkowitą n'))\n",
    "print('silnia ',n,'!= ',silnia(n))"
   ]
  },
  {
   "cell_type": "code",
   "execution_count": null,
   "metadata": {},
   "outputs": [],
   "source": []
  }
 ],
 "metadata": {
  "kernelspec": {
   "display_name": "Python 3",
   "language": "python",
   "name": "python3"
  },
  "language_info": {
   "codemirror_mode": {
    "name": "ipython",
    "version": 3
   },
   "file_extension": ".py",
   "mimetype": "text/x-python",
   "name": "python",
   "nbconvert_exporter": "python",
   "pygments_lexer": "ipython3",
   "version": "3.7.3"
  }
 },
 "nbformat": 4,
 "nbformat_minor": 2
}
