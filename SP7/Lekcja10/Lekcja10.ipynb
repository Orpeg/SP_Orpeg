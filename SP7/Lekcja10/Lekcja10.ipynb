{
 "cells": [
  {
   "cell_type": "markdown",
   "metadata": {},
   "source": [
    "## Lekcja 10 - ostatnia ##\n",
    "**Python 3**\n"
   ]
  },
  {
   "cell_type": "markdown",
   "metadata": {},
   "source": [
    "* listy i operacje na listach\n",
    "* pętle for i while\n",
    "* range"
   ]
  },
  {
   "cell_type": "code",
   "execution_count": 1,
   "metadata": {},
   "outputs": [
    {
     "name": "stdout",
     "output_type": "stream",
     "text": [
      "[2, -3, 4, -9, 0, 9, 10]\n"
     ]
    }
   ],
   "source": [
    "lst = [2, -3, 4, -9, 0, 9 , 10]\n",
    "print(lst)"
   ]
  },
  {
   "cell_type": "code",
   "execution_count": 2,
   "metadata": {},
   "outputs": [
    {
     "name": "stdout",
     "output_type": "stream",
     "text": [
      "7\n"
     ]
    }
   ],
   "source": [
    "print(len(lst))"
   ]
  },
  {
   "cell_type": "code",
   "execution_count": 3,
   "metadata": {},
   "outputs": [
    {
     "name": "stdout",
     "output_type": "stream",
     "text": [
      "10\n"
     ]
    }
   ],
   "source": [
    "# len - od słowa lenght\n",
    "print(lst[6])"
   ]
  },
  {
   "cell_type": "code",
   "execution_count": 4,
   "metadata": {},
   "outputs": [
    {
     "name": "stdout",
     "output_type": "stream",
     "text": [
      "2\n"
     ]
    }
   ],
   "source": [
    "print(lst[0])"
   ]
  },
  {
   "cell_type": "code",
   "execution_count": 6,
   "metadata": {},
   "outputs": [
    {
     "name": "stdout",
     "output_type": "stream",
     "text": [
      "2 -3 4 -9 0 9 10 "
     ]
    }
   ],
   "source": [
    "for e in lst:\n",
    "    print(e, end =' ')"
   ]
  },
  {
   "cell_type": "code",
   "execution_count": 7,
   "metadata": {},
   "outputs": [
    {
     "name": "stdout",
     "output_type": "stream",
     "text": [
      "[2, -3, 4, -9, 0, 9]\n"
     ]
    }
   ],
   "source": [
    "# pop append\n",
    "lst.pop()\n",
    "print(lst)"
   ]
  },
  {
   "cell_type": "code",
   "execution_count": 8,
   "metadata": {},
   "outputs": [
    {
     "name": "stdout",
     "output_type": "stream",
     "text": [
      "[2, -3, 4, -9, 0, 9, 10]\n"
     ]
    }
   ],
   "source": [
    "lst.append(10)\n",
    "print(lst)"
   ]
  },
  {
   "cell_type": "code",
   "execution_count": 12,
   "metadata": {},
   "outputs": [
    {
     "name": "stdout",
     "output_type": "stream",
     "text": [
      "-3\n",
      "-9\n",
      "0\n",
      "koniec listy\n"
     ]
    }
   ],
   "source": [
    "for e in lst:\n",
    "    if e <= 0:\n",
    "        print(e)\n",
    "print('koniec listy')"
   ]
  },
  {
   "cell_type": "code",
   "execution_count": 15,
   "metadata": {},
   "outputs": [
    {
     "name": "stdout",
     "output_type": "stream",
     "text": [
      "suma elementow dodatnich  25\n"
     ]
    }
   ],
   "source": [
    "# policz sumę elementow dodatnich\n",
    "suma = 0\n",
    "for e in lst:\n",
    "    if e >= 0:\n",
    "        suma += e\n",
    "print('suma elementow dodatnich ',suma)"
   ]
  },
  {
   "cell_type": "code",
   "execution_count": 14,
   "metadata": {},
   "outputs": [
    {
     "name": "stdout",
     "output_type": "stream",
     "text": [
      "[2, -3, 4, -9, 0, 9, 10]\n"
     ]
    }
   ],
   "source": [
    "print(lst)"
   ]
  },
  {
   "cell_type": "code",
   "execution_count": 18,
   "metadata": {},
   "outputs": [
    {
     "name": "stdout",
     "output_type": "stream",
     "text": [
      "1 2 3 4 5 6 7 8 9 10 "
     ]
    }
   ],
   "source": [
    "# range zakres\n",
    "for i in range(1, 11):\n",
    "    print(i, end = ' ')"
   ]
  },
  {
   "cell_type": "code",
   "execution_count": 22,
   "metadata": {},
   "outputs": [
    {
     "name": "stdout",
     "output_type": "stream",
     "text": [
      "0 . to jest napis\n",
      "1 . to jest napis\n",
      "2 . to jest napis\n",
      "3 . to jest napis\n",
      "4 . to jest napis\n"
     ]
    }
   ],
   "source": [
    "# ile razy wyswietli sie napis\n",
    "for e in range(5):\n",
    "    print(e, '. to jest napis')"
   ]
  },
  {
   "cell_type": "code",
   "execution_count": 24,
   "metadata": {},
   "outputs": [
    {
     "name": "stdout",
     "output_type": "stream",
     "text": [
      "1 . linijka \n",
      "2 . linijka \n",
      "3 . linijka \n",
      "4 . linijka \n",
      "5 . linijka \n",
      "6 . linijka \n",
      "7 . linijka \n",
      "8 . linijka \n",
      "9 . linijka \n",
      "10 . linijka \n"
     ]
    }
   ],
   "source": [
    "# pętla while\n",
    "j = 1\n",
    "while j <= 10:\n",
    "    print(j, '. linijka ')\n",
    "    j+=1"
   ]
  },
  {
   "cell_type": "code",
   "execution_count": 25,
   "metadata": {},
   "outputs": [],
   "source": [
    "# petla nieskonczona\n",
    "# utworz liste skladajaca się z 3 dodatnich elementow\n",
    "list = []"
   ]
  },
  {
   "cell_type": "code",
   "execution_count": 30,
   "metadata": {},
   "outputs": [
    {
     "name": "stdout",
     "output_type": "stream",
     "text": [
      "podaj liczbe-9\n",
      "podales liczbe ujemna, sprobuj jeszcze raz -8\n",
      "podales liczbe ujemna, sprobuj jeszcze raz -7\n",
      "podales liczbe ujemna, sprobuj jeszcze raz -6\n",
      "podales liczbe ujemna, sprobuj jeszcze raz 4\n"
     ]
    }
   ],
   "source": [
    "k = int(input('podaj liczbe'))\n",
    "while k < 0:\n",
    "    k = int(input('podales liczbe ujemna, sprobuj jeszcze raz '))\n",
    "list.append(k)"
   ]
  },
  {
   "cell_type": "code",
   "execution_count": 31,
   "metadata": {},
   "outputs": [
    {
     "name": "stdout",
     "output_type": "stream",
     "text": [
      "[2, 8, 4]\n"
     ]
    }
   ],
   "source": [
    "print(list)"
   ]
  },
  {
   "cell_type": "code",
   "execution_count": 32,
   "metadata": {},
   "outputs": [
    {
     "name": "stdout",
     "output_type": "stream",
     "text": [
      "podaj liczbe naturlna -9\n",
      "podales zla liczbe, jeszcze raz   1024\n",
      "podana liczba sklada się z  4  cyfr\n"
     ]
    }
   ],
   "source": [
    "# zadanie: napisz program, który oblicza z ilu cyfr składa się liczba\n",
    "k = int(input('podaj liczbe naturlna '))\n",
    "while k < 0:\n",
    "    k = int(input('podales zla liczbe, jeszcze raz   '))\n",
    "# 123\n",
    "n = 0\n",
    "while k > 0:\n",
    "    k = int(k/10)\n",
    "    n+=1\n",
    "print('podana liczba sklada się z ', n , ' cyfr')"
   ]
  },
  {
   "cell_type": "code",
   "execution_count": 33,
   "metadata": {},
   "outputs": [],
   "source": [
    "import pandas as pd"
   ]
  },
  {
   "cell_type": "code",
   "execution_count": 34,
   "metadata": {},
   "outputs": [],
   "source": [
    "df = pd.read_excel('python_dane.xlsx')"
   ]
  },
  {
   "cell_type": "code",
   "execution_count": 35,
   "metadata": {},
   "outputs": [
    {
     "data": {
      "text/html": [
       "<div>\n",
       "<style scoped>\n",
       "    .dataframe tbody tr th:only-of-type {\n",
       "        vertical-align: middle;\n",
       "    }\n",
       "\n",
       "    .dataframe tbody tr th {\n",
       "        vertical-align: top;\n",
       "    }\n",
       "\n",
       "    .dataframe thead th {\n",
       "        text-align: right;\n",
       "    }\n",
       "</style>\n",
       "<table border=\"1\" class=\"dataframe\">\n",
       "  <thead>\n",
       "    <tr style=\"text-align: right;\">\n",
       "      <th></th>\n",
       "      <th>Lp</th>\n",
       "      <th>Nazwisko</th>\n",
       "      <th>Imię</th>\n",
       "      <th>wiek</th>\n",
       "      <th>wzrost</th>\n",
       "      <th>waga</th>\n",
       "      <th>Język polski</th>\n",
       "      <th>Matematyka</th>\n",
       "      <th>Geografia</th>\n",
       "      <th>Fizyka</th>\n",
       "      <th>Historia</th>\n",
       "      <th>Informatyka</th>\n",
       "      <th>Język\n",
       "angielski</th>\n",
       "      <th>Chemia</th>\n",
       "    </tr>\n",
       "  </thead>\n",
       "  <tbody>\n",
       "    <tr>\n",
       "      <th>0</th>\n",
       "      <td>1</td>\n",
       "      <td>Bęc</td>\n",
       "      <td>Aleksandra</td>\n",
       "      <td>14</td>\n",
       "      <td>175.8</td>\n",
       "      <td>54.7</td>\n",
       "      <td>2</td>\n",
       "      <td>5</td>\n",
       "      <td>2</td>\n",
       "      <td>2</td>\n",
       "      <td>4</td>\n",
       "      <td>3</td>\n",
       "      <td>3</td>\n",
       "      <td>4</td>\n",
       "    </tr>\n",
       "    <tr>\n",
       "      <th>1</th>\n",
       "      <td>2</td>\n",
       "      <td>Błazik</td>\n",
       "      <td>Wiktoria</td>\n",
       "      <td>18</td>\n",
       "      <td>174.9</td>\n",
       "      <td>59.2</td>\n",
       "      <td>3</td>\n",
       "      <td>3</td>\n",
       "      <td>5</td>\n",
       "      <td>5</td>\n",
       "      <td>6</td>\n",
       "      <td>5</td>\n",
       "      <td>6</td>\n",
       "      <td>6</td>\n",
       "    </tr>\n",
       "    <tr>\n",
       "      <th>2</th>\n",
       "      <td>3</td>\n",
       "      <td>Borys</td>\n",
       "      <td>Hanna</td>\n",
       "      <td>16</td>\n",
       "      <td>160.9</td>\n",
       "      <td>72.8</td>\n",
       "      <td>4</td>\n",
       "      <td>4</td>\n",
       "      <td>6</td>\n",
       "      <td>6</td>\n",
       "      <td>3</td>\n",
       "      <td>6</td>\n",
       "      <td>5</td>\n",
       "      <td>5</td>\n",
       "    </tr>\n",
       "  </tbody>\n",
       "</table>\n",
       "</div>"
      ],
      "text/plain": [
       "   Lp Nazwisko        Imię  wiek  wzrost  waga  Język polski  Matematyka  \\\n",
       "0   1      Bęc  Aleksandra    14   175.8  54.7             2           5   \n",
       "1   2   Błazik    Wiktoria    18   174.9  59.2             3           3   \n",
       "2   3    Borys       Hanna    16   160.9  72.8             4           4   \n",
       "\n",
       "   Geografia  Fizyka  Historia  Informatyka  Język\\nangielski  Chemia  \n",
       "0          2       2         4            3                 3       4  \n",
       "1          5       5         6            5                 6       6  \n",
       "2          6       6         3            6                 5       5  "
      ]
     },
     "execution_count": 35,
     "metadata": {},
     "output_type": "execute_result"
    }
   ],
   "source": [
    "df.head(3)"
   ]
  },
  {
   "cell_type": "code",
   "execution_count": null,
   "metadata": {},
   "outputs": [],
   "source": []
  }
 ],
 "metadata": {
  "kernelspec": {
   "display_name": "Python 3",
   "language": "python",
   "name": "python3"
  },
  "language_info": {
   "codemirror_mode": {
    "name": "ipython",
    "version": 3
   },
   "file_extension": ".py",
   "mimetype": "text/x-python",
   "name": "python",
   "nbconvert_exporter": "python",
   "pygments_lexer": "ipython3",
   "version": "3.7.3"
  }
 },
 "nbformat": 4,
 "nbformat_minor": 2
}
