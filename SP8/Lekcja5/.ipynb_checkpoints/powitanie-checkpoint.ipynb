{
 "cells": [
  {
   "cell_type": "code",
   "execution_count": 1,
   "metadata": {},
   "outputs": [],
   "source": [
    "a = 2\n",
    "b = 3"
   ]
  },
  {
   "cell_type": "markdown",
   "metadata": {},
   "source": [
    "# dodawanie liczb\n",
    "\n",
    "![ORPEG](http://www.orpeg.pl/templates/orpeg/images/logo.png)"
   ]
  },
  {
   "cell_type": "code",
   "execution_count": 2,
   "metadata": {},
   "outputs": [
    {
     "name": "stdout",
     "output_type": "stream",
     "text": [
      "zmienna a =  2\n",
      "zmienna b =  3\n"
     ]
    }
   ],
   "source": [
    "print(\"zmienna a = \", a)\n",
    "print(\"zmienna b = \", b)\n",
    "# to jest komentarz"
   ]
  },
  {
   "cell_type": "code",
   "execution_count": 3,
   "metadata": {},
   "outputs": [
    {
     "name": "stdout",
     "output_type": "stream",
     "text": [
      "suma a + b = 5\n"
     ]
    }
   ],
   "source": [
    "print(\"suma a + b =\", a+b)#dodajemy zmienne"
   ]
  },
  {
   "cell_type": "code",
   "execution_count": 5,
   "metadata": {},
   "outputs": [
    {
     "name": "stdout",
     "output_type": "stream",
     "text": [
      "podaj liczbe całkowitą   34\n",
      "podałeś liczbę x =  34\n"
     ]
    }
   ],
   "source": [
    "x = int(input(\"podaj liczbe całkowitą   \"))\n",
    "print(\"podałeś liczbę x = \", x)"
   ]
  },
  {
   "cell_type": "code",
   "execution_count": 6,
   "metadata": {},
   "outputs": [
    {
     "name": "stdout",
     "output_type": "stream",
     "text": [
      "podaj liczbę zmiennoprzecinkowa  3.14\n",
      "podałes liczbe y =  3.14\n"
     ]
    }
   ],
   "source": [
    "y = float(input(\"podaj liczbę zmiennoprzecinkowa  \"))\n",
    "print(\"podałes liczbe y = \", y)"
   ]
  },
  {
   "cell_type": "code",
   "execution_count": 7,
   "metadata": {},
   "outputs": [
    {
     "name": "stdout",
     "output_type": "stream",
     "text": [
      "x*y =  106.76\n"
     ]
    }
   ],
   "source": [
    "wx = x*y\n",
    "print(\"x*y = \", wx)"
   ]
  },
  {
   "cell_type": "code",
   "execution_count": 8,
   "metadata": {},
   "outputs": [
    {
     "name": "stdout",
     "output_type": "stream",
     "text": [
      "9\n"
     ]
    }
   ],
   "source": [
    "print(3*3)"
   ]
  },
  {
   "cell_type": "code",
   "execution_count": 12,
   "metadata": {},
   "outputs": [
    {
     "name": "stdout",
     "output_type": "stream",
     "text": [
      "1024\n"
     ]
    }
   ],
   "source": [
    "print(2**10)"
   ]
  },
  {
   "cell_type": "code",
   "execution_count": 13,
   "metadata": {},
   "outputs": [
    {
     "name": "stdout",
     "output_type": "stream",
     "text": [
      "a=  2\n",
      "b = 3\n"
     ]
    }
   ],
   "source": [
    "print(\"a= \",a)\n",
    "print(\"b =\", b)"
   ]
  },
  {
   "cell_type": "code",
   "execution_count": 24,
   "metadata": {},
   "outputs": [],
   "source": [
    "def zamiana(a,b):\n",
    "    print(\"zamiana \\n a = \",a, \"\\nb=  \", b)\n",
    "    temp = a\n",
    "    a = b\n",
    "    b = temp\n",
    "    print(\"a= \", a)\n",
    "    print(\"b =\", b)\n",
    "    return(a,b)"
   ]
  },
  {
   "cell_type": "code",
   "execution_count": 25,
   "metadata": {},
   "outputs": [
    {
     "name": "stdout",
     "output_type": "stream",
     "text": [
      "zamiana \n",
      " a =  2 \n",
      "b=   3\n",
      "a=  3\n",
      "b = 2\n"
     ]
    },
    {
     "data": {
      "text/plain": [
       "(3, 2)"
      ]
     },
     "execution_count": 25,
     "metadata": {},
     "output_type": "execute_result"
    }
   ],
   "source": [
    "zamiana(a,b)"
   ]
  },
  {
   "cell_type": "code",
   "execution_count": null,
   "metadata": {},
   "outputs": [],
   "source": []
  }
 ],
 "metadata": {
  "kernelspec": {
   "display_name": "Python 3",
   "language": "python",
   "name": "python3"
  },
  "language_info": {
   "codemirror_mode": {
    "name": "ipython",
    "version": 3
   },
   "file_extension": ".py",
   "mimetype": "text/x-python",
   "name": "python",
   "nbconvert_exporter": "python",
   "pygments_lexer": "ipython3",
   "version": "3.7.1"
  }
 },
 "nbformat": 4,
 "nbformat_minor": 2
}
