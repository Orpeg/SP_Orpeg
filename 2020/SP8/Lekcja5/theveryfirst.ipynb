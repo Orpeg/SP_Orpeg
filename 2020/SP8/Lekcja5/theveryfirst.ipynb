{
 "cells": [
  {
   "cell_type": "code",
   "execution_count": 1,
   "metadata": {},
   "outputs": [
    {
     "name": "stdout",
     "output_type": "stream",
     "text": [
      "dzień dobry\n"
     ]
    }
   ],
   "source": [
    "print (\"dzień dobry\")"
   ]
  },
  {
   "cell_type": "code",
   "execution_count": 2,
   "metadata": {},
   "outputs": [
    {
     "name": "stdout",
     "output_type": "stream",
     "text": [
      "2\n",
      "3\n"
     ]
    }
   ],
   "source": [
    "a=2\n",
    "b=3\n",
    "print(a)\n",
    "print (b)\n"
   ]
  },
  {
   "cell_type": "code",
   "execution_count": 3,
   "metadata": {},
   "outputs": [
    {
     "name": "stdout",
     "output_type": "stream",
     "text": [
      "5\n"
     ]
    }
   ],
   "source": [
    "suma = a+b\n",
    "print (suma)"
   ]
  },
  {
   "cell_type": "code",
   "execution_count": 4,
   "metadata": {},
   "outputs": [
    {
     "name": "stdout",
     "output_type": "stream",
     "text": [
      "2,   3\n",
      "suma liczb a+b = 5\n"
     ]
    }
   ],
   "source": [
    "print (a, end=',   ')\n",
    "print(b)\n",
    "print(\"suma liczb a+b =\",suma)"
   ]
  },
  {
   "cell_type": "code",
   "execution_count": 6,
   "metadata": {},
   "outputs": [
    {
     "name": "stdout",
     "output_type": "stream",
     "text": [
      "Podaj liczbę rzeczywistą3.1415\n",
      "Podałeś liczbę a=  3.1415\n",
      "podwójna liczba wynosi 2a=  6.283\n"
     ]
    }
   ],
   "source": [
    "#to jest komentarz w jednej linii pisany od początku\n",
    "a=float(input(\"Podaj liczbę rzeczywistą\")) #to jest komentarz pisany po linii kodu\n",
    "print(\"Podałeś liczbę a= \",a)\n",
    "print(\"podwójna liczba wynosi 2a= \", 2*a)#w linii wydrukuk można wykonywać działanie\n"
   ]
  },
  {
   "cell_type": "code",
   "execution_count": 24,
   "metadata": {},
   "outputs": [
    {
     "name": "stdout",
     "output_type": "stream",
     "text": [
      "podaj liczbę naturalną n= 0\n",
      "silnia  0 ! =  1\n"
     ]
    }
   ],
   "source": [
    "#Tu policzymy silnię metodą iteracyjną\n",
    "n=int(input(\"podaj liczbę naturalną n= \"))\n",
    "silnia = 1\n",
    "if (n==0 or n==1):\n",
    "    silnia=1\n",
    "else: \n",
    "    for i in range(1,n+1):\n",
    "        silnia*=i\n",
    "print(\"silnia \",n,\"! = \", silnia)\n"
   ]
  },
  {
   "cell_type": "code",
   "execution_count": null,
   "metadata": {},
   "outputs": [],
   "source": []
  }
 ],
 "metadata": {
  "kernelspec": {
   "display_name": "Python 3",
   "language": "python",
   "name": "python3"
  },
  "language_info": {
   "codemirror_mode": {
    "name": "ipython",
    "version": 3
   },
   "file_extension": ".py",
   "mimetype": "text/x-python",
   "name": "python",
   "nbconvert_exporter": "python",
   "pygments_lexer": "ipython3",
   "version": "3.7.1"
  }
 },
 "nbformat": 4,
 "nbformat_minor": 2
}
