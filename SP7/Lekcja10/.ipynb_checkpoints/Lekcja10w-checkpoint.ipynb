{
 "cells": [
  {
   "cell_type": "markdown",
   "metadata": {},
   "source": [
    "![Jupyter](jupyter.png)"
   ]
  },
  {
   "cell_type": "markdown",
   "metadata": {},
   "source": [
    "## Lekcja 10-ostatnia w tym roku##\n",
    "**Plan**\n",
    "* listy i operacje na listach\n",
    "* pętle for i while\n",
    "* range\n",
    "* definicja- podprogram"
   ]
  },
  {
   "cell_type": "code",
   "execution_count": 2,
   "metadata": {},
   "outputs": [],
   "source": [
    "# co to jest lista?\n",
    "lst = [2, 'ab', 3, 'kwiatek', 10, 'pszczoła']"
   ]
  },
  {
   "cell_type": "code",
   "execution_count": 3,
   "metadata": {},
   "outputs": [
    {
     "name": "stdout",
     "output_type": "stream",
     "text": [
      "[2, 'ab', 3, 'kwiatek', 10, 'pszczoła']\n"
     ]
    }
   ],
   "source": [
    "print(lst)"
   ]
  },
  {
   "cell_type": "code",
   "execution_count": 6,
   "metadata": {},
   "outputs": [
    {
     "name": "stdout",
     "output_type": "stream",
     "text": [
      "2,  ab,  3,  kwiatek,  10,  pszczoła,  "
     ]
    }
   ],
   "source": [
    "for e in lst:\n",
    "    print(e, end=',  ')"
   ]
  },
  {
   "cell_type": "code",
   "execution_count": 7,
   "metadata": {},
   "outputs": [
    {
     "data": {
      "text/plain": [
       "'pszczoła'"
      ]
     },
     "execution_count": 7,
     "metadata": {},
     "output_type": "execute_result"
    }
   ],
   "source": [
    "lst.pop()"
   ]
  },
  {
   "cell_type": "code",
   "execution_count": 8,
   "metadata": {},
   "outputs": [
    {
     "name": "stdout",
     "output_type": "stream",
     "text": [
      "[2, 'ab', 3, 'kwiatek', 10]\n"
     ]
    }
   ],
   "source": [
    "print(lst)"
   ]
  },
  {
   "cell_type": "code",
   "execution_count": 9,
   "metadata": {},
   "outputs": [],
   "source": [
    "lst.append('pszczółka')"
   ]
  },
  {
   "cell_type": "code",
   "execution_count": 10,
   "metadata": {},
   "outputs": [
    {
     "name": "stdout",
     "output_type": "stream",
     "text": [
      "[2, 'ab', 3, 'kwiatek', 10, 'pszczółka']\n"
     ]
    }
   ],
   "source": [
    "print(lst)"
   ]
  },
  {
   "cell_type": "code",
   "execution_count": 11,
   "metadata": {},
   "outputs": [
    {
     "name": "stdout",
     "output_type": "stream",
     "text": [
      "pszczółka\n"
     ]
    }
   ],
   "source": [
    "print(lst[5])"
   ]
  },
  {
   "cell_type": "code",
   "execution_count": 12,
   "metadata": {},
   "outputs": [
    {
     "name": "stdout",
     "output_type": "stream",
     "text": [
      "6\n"
     ]
    }
   ],
   "source": [
    "print(len(lst))"
   ]
  },
  {
   "cell_type": "code",
   "execution_count": 15,
   "metadata": {},
   "outputs": [
    {
     "name": "stdout",
     "output_type": "stream",
     "text": [
      "1 2 3 4 5 6 7 8 9 10 "
     ]
    }
   ],
   "source": [
    "# zakres range(poczatek, koniec-1)\n",
    "for e in range(1, 11):\n",
    "    print(e, end = ' ')"
   ]
  },
  {
   "cell_type": "code",
   "execution_count": 16,
   "metadata": {},
   "outputs": [
    {
     "name": "stdout",
     "output_type": "stream",
     "text": [
      "[0, 1, 2, 3, 4, 5, 6, 7, 8, 9, 10]\n"
     ]
    }
   ],
   "source": [
    "lista = []\n",
    "for i in range(11):\n",
    "    lista.append(i)\n",
    "print(lista)"
   ]
  },
  {
   "cell_type": "code",
   "execution_count": 17,
   "metadata": {},
   "outputs": [
    {
     "name": "stdout",
     "output_type": "stream",
     "text": [
      "[0, 1, 2, 3, 4, 5, 6, 7, 8, 9, 10, -10, -5]\n"
     ]
    }
   ],
   "source": [
    "lista.append(-10)\n",
    "lista.append(-5)\n",
    "print(lista)"
   ]
  },
  {
   "cell_type": "code",
   "execution_count": 18,
   "metadata": {},
   "outputs": [
    {
     "name": "stdout",
     "output_type": "stream",
     "text": [
      "10\n"
     ]
    }
   ],
   "source": [
    "print(max(lista))"
   ]
  },
  {
   "cell_type": "code",
   "execution_count": 19,
   "metadata": {},
   "outputs": [
    {
     "name": "stdout",
     "output_type": "stream",
     "text": [
      "-10\n"
     ]
    }
   ],
   "source": [
    "print(min(lista))"
   ]
  },
  {
   "cell_type": "code",
   "execution_count": 20,
   "metadata": {},
   "outputs": [
    {
     "name": "stdout",
     "output_type": "stream",
     "text": [
      "suma wyrazow ujemnych  -15\n"
     ]
    }
   ],
   "source": [
    "# dodajemy wyrazy ujemne\n",
    "suma = 0\n",
    "for e in lista:\n",
    "    if e < 0:\n",
    "        suma += e\n",
    "print('suma wyrazow ujemnych ', suma)"
   ]
  },
  {
   "cell_type": "code",
   "execution_count": 21,
   "metadata": {},
   "outputs": [
    {
     "name": "stdout",
     "output_type": "stream",
     "text": [
      "20\n"
     ]
    }
   ],
   "source": [
    "# dodaj wyrazy nieparzyste\n",
    "suma = 0\n",
    "for e in lista:\n",
    "    if e%2 != 0:\n",
    "        suma+=e\n",
    "print(suma)"
   ]
  },
  {
   "cell_type": "code",
   "execution_count": 22,
   "metadata": {},
   "outputs": [
    {
     "name": "stdout",
     "output_type": "stream",
     "text": [
      "1\n"
     ]
    }
   ],
   "source": [
    "a = 9\n",
    "print(a%2)"
   ]
  },
  {
   "cell_type": "code",
   "execution_count": 23,
   "metadata": {},
   "outputs": [
    {
     "data": {
      "text/plain": [
       "True"
      ]
     },
     "execution_count": 23,
     "metadata": {},
     "output_type": "execute_result"
    }
   ],
   "source": [
    "# == porownanie zmienne do liczby\n",
    "# != nie jest równe liczbie\n",
    "a==9"
   ]
  },
  {
   "cell_type": "code",
   "execution_count": 24,
   "metadata": {},
   "outputs": [
    {
     "data": {
      "text/plain": [
       "False"
      ]
     },
     "execution_count": 24,
     "metadata": {},
     "output_type": "execute_result"
    }
   ],
   "source": [
    "a==8"
   ]
  },
  {
   "cell_type": "code",
   "execution_count": 25,
   "metadata": {},
   "outputs": [
    {
     "data": {
      "text/plain": [
       "False"
      ]
     },
     "execution_count": 25,
     "metadata": {},
     "output_type": "execute_result"
    }
   ],
   "source": [
    "a!=9"
   ]
  },
  {
   "cell_type": "code",
   "execution_count": 26,
   "metadata": {},
   "outputs": [
    {
     "data": {
      "text/plain": [
       "True"
      ]
     },
     "execution_count": 26,
     "metadata": {},
     "output_type": "execute_result"
    }
   ],
   "source": [
    "a!=8"
   ]
  },
  {
   "cell_type": "code",
   "execution_count": 31,
   "metadata": {},
   "outputs": [
    {
     "name": "stdout",
     "output_type": "stream",
     "text": [
      "1 . obieg petli\n",
      "2 . obieg petli\n",
      "3 . obieg petli\n",
      "4 . obieg petli\n",
      "5 . obieg petli\n",
      "6 . obieg petli\n",
      "7 . obieg petli\n",
      "8 . obieg petli\n",
      "9 . obieg petli\n",
      "10 . obieg petli\n"
     ]
    }
   ],
   "source": [
    "# pętla while\n",
    "j = 1\n",
    "k=0\n",
    "while j <= 10:\n",
    "    print(j, '. obieg petli')\n",
    "    j+=1\n"
   ]
  },
  {
   "cell_type": "code",
   "execution_count": 33,
   "metadata": {},
   "outputs": [
    {
     "name": "stdout",
     "output_type": "stream",
     "text": [
      "podaj liczbe dodatnią   -3\n",
      "błędna liczba, spróbuj jeszcze raz-9\n",
      "błędna liczba, spróbuj jeszcze raz-1\n",
      "błędna liczba, spróbuj jeszcze raz8\n",
      "podales liczbe   8\n"
     ]
    }
   ],
   "source": [
    "# petla while jako pętla nieskonczona\n",
    "k= int(input('podaj liczbe dodatnią   '))\n",
    "while k < 0:\n",
    "    k = int(input('błędna liczba, spróbuj jeszcze raz  '))\n",
    "print('podales liczbe  ', k)"
   ]
  },
  {
   "cell_type": "code",
   "execution_count": 34,
   "metadata": {},
   "outputs": [
    {
     "name": "stdout",
     "output_type": "stream",
     "text": [
      "5, 15\n"
     ]
    }
   ],
   "source": [
    "x = 5\n",
    "print(x,end=\", \")\n",
    "x+=2*x\n",
    "print(x)"
   ]
  },
  {
   "cell_type": "code",
   "execution_count": 37,
   "metadata": {},
   "outputs": [
    {
     "name": "stdout",
     "output_type": "stream",
     "text": [
      "podaj liczbe k5\n",
      "9\n"
     ]
    }
   ],
   "source": [
    "# mamy ciąg liczbowy arytmetyczny\n",
    "# 1,3,5,7,9 itd\n",
    "def ciag(n):\n",
    "    return 2*n-1\n",
    "k = int(input('podaj liczbe k'))\n",
    "print(ciag(k))"
   ]
  },
  {
   "cell_type": "code",
   "execution_count": 38,
   "metadata": {},
   "outputs": [
    {
     "name": "stdout",
     "output_type": "stream",
     "text": [
      "1   3   5   7   9   11   13   15   17   19   21   23   25   27   29   31   33   35   37   39   "
     ]
    }
   ],
   "source": [
    "# wypiszemy 20 wyrazow tego ciagu\n",
    "for i in range(1,21):\n",
    "    print(ciag(i), end= '   ')"
   ]
  },
  {
   "cell_type": "code",
   "execution_count": 39,
   "metadata": {},
   "outputs": [
    {
     "name": "stdout",
     "output_type": "stream",
     "text": [
      "suma 100 wyranow ciagu a(n)=2n-1 wynosi   10000\n"
     ]
    }
   ],
   "source": [
    "# ile wynosi suma 100 pierwszych wyrazow tego ciagu\n",
    "suma = 0\n",
    "for i in range(1,101):\n",
    "    suma += ciag(i)\n",
    "print('suma 100 wyranow ciagu a(n)=2n-1 wynosi  ',  suma)"
   ]
  },
  {
   "cell_type": "code",
   "execution_count": 41,
   "metadata": {},
   "outputs": [
    {
     "name": "stdout",
     "output_type": "stream",
     "text": [
      "199\n"
     ]
    }
   ],
   "source": [
    "print(ciag(100))"
   ]
  },
  {
   "cell_type": "code",
   "execution_count": null,
   "metadata": {},
   "outputs": [],
   "source": [
    "# suma wyrazow ciagu arytmetycznego 100*(a1+a100)/2"
   ]
  }
 ],
 "metadata": {
  "kernelspec": {
   "display_name": "Python 3",
   "language": "python",
   "name": "python3"
  },
  "language_info": {
   "codemirror_mode": {
    "name": "ipython",
    "version": 3
   },
   "file_extension": ".py",
   "mimetype": "text/x-python",
   "name": "python",
   "nbconvert_exporter": "python",
   "pygments_lexer": "ipython3",
   "version": "3.7.3"
  }
 },
 "nbformat": 4,
 "nbformat_minor": 2
}
